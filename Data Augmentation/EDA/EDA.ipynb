{
  "cells": [
    {
      "cell_type": "code",
      "execution_count": null,
      "metadata": {
        "id": "06jq9Bx4zFfo"
      },
      "outputs": [],
      "source": [
        "!git clone https://github.com/mosh98/swe_aug.git\n",
        "! pip install -r /content/swe_aug/reqs.txt"
      ]
    },
    {
      "cell_type": "code",
      "execution_count": 25,
      "metadata": {
        "colab": {
          "base_uri": "https://localhost:8080/"
        },
        "id": "rCnt-TsS0cbW",
        "outputId": "601b986e-532f-41f9-c0f5-be86fe5f2914"
      },
      "outputs": [
        {
          "name": "stderr",
          "output_type": "stream",
          "text": [
            "'wget' is not recognized as an internal or external command,\n",
            "operable program or batch file.\n",
            "'bzip2' is not recognized as an internal or external command,\n",
            "operable program or batch file.\n"
          ]
        }
      ],
      "source": [
        "!wget https://www.ida.liu.se/divisions/hcs/nlplab/swectors/swectors-300dim.txt.bz2\n",
        "!bzip2 -dk /content/swectors-300dim.txt.bz2\n",
        "\n",
        "import os\n",
        "\n",
        "# Define paths for input and output files\n",
        "current_dir = os.getcwd()\n",
        "input_file_path = os.path.join(current_dir, \"Unlabeled Corpus\", \"New Hiligaynon Corpus.txt\")  # Change to your input file name\n",
        "output_file_path = os.path.join(current_dir, \"Unlabeled Corpus\", \"New Hiligaynon Corpus augmented_output.txt\")  # Output file\n",
        "\n",
        "word_vec_path = os.path.join(current_dir, \"word2vec_300dim_20epochs.mode.txt\")\n",
        "\n",
        "with open(input_file_path, 'r', encoding='utf-8') as file:\n",
        "    txt = file.read()\n",
        "#you can even set path to your own pretrain word2vec (make sure its a txt file)"
      ]
    },
    {
      "cell_type": "code",
      "execution_count": 26,
      "metadata": {
        "colab": {
          "base_uri": "https://localhost:8080/"
        },
        "id": "JOhAR1kAzHgt",
        "outputId": "2adbd480-d11f-4b90-9e7a-e04493ef8d96"
      },
      "outputs": [],
      "source": [
        "from swe_aug import EDA\n",
        "\n",
        "aug = EDA.Enkel_Data_Augmentation(word_vec_path)\n"
      ]
    },
    {
      "cell_type": "code",
      "execution_count": 5,
      "metadata": {},
      "outputs": [],
      "source": [
        "#txt = \"Ginpasingki sang US-Marcos Jr nga rehimen ang paglargada sang neoliberal nga patakaran nga liberalisasyon, nga naghatag ligwa sa wala kontrol nga pagsulod sang mga artipisyal nga pangpatam-is (artificial sweetener) kag iban pa nga kalamay (“other sugars” ukon sugar-based nga mga produkto) gikan sa luwas sang pungsod. Wala pa labot diri ang importasyon sang dako nga bulto sang puti nga kalamay kada tuig. \""
      ]
    },
    {
      "cell_type": "code",
      "execution_count": 27,
      "metadata": {},
      "outputs": [],
      "source": [
        "# Split the text into paragraphs based on double newlines\n",
        "paragraphs = txt.split('\\n\\n')"
      ]
    },
    {
      "cell_type": "code",
      "execution_count": 28,
      "metadata": {
        "id": "no-MhRB_zcwh"
      },
      "outputs": [],
      "source": [
        "\n",
        "augmented_sentences = aug.enkel_augmentation(txt, alpha_sr=0.1, alpha_ri=0.3, alpha_rs=0.2,alpha_rd=0.1, num_aug=1)\n",
        "#returns a list of augmented sentences\n",
        "\n",
        "augmented_paragraphs = []\n",
        "# Loop through each paragraph and apply data augmentation\n",
        "for paragraph in paragraphs:\n",
        "    if paragraph.strip():  # Only process non-empty paragraphs\n",
        "        augmented_sentences = aug.enkel_augmentation(paragraph, alpha_sr=0.1,\n",
        "                                                     alpha_ri=0.3, alpha_rs=0.2,\n",
        "                                                     alpha_rd=0.1, num_aug=1)\n",
        "        # Join augmented sentences for the paragraph\n",
        "        augmented_paragraphs.append(' '.join(augmented_sentences))"
      ]
    },
    {
      "cell_type": "code",
      "execution_count": 22,
      "metadata": {},
      "outputs": [
        {
          "data": {
            "text/plain": [
              "['Bisan ang inutil nga Sugar Regulatory Administration (SRA) nga amo ang may obligasyon sa regulasyon wala ini ginbuyagyag.\\nNaklaro lang ang kagrabehon sang sitwasyon sang nagpagwa na sang reklamo ang mga plantador sa Negros.\\nDiri napat-ud ang aktuwal nga numero nga gina-import kada simana kag ang dason implikasyon sini sa igatuga nga pandemya sa ekonomiya sang Negros tungod nahigot sa industriya sang kalamay ang ekonomiya sini.',\n",
              " 'Bisan lng sng ang sng inutil responsibilidad nga Sugar hahaha aktuwal Regulatory Administration (SRA) nga amo ang may responsibilidad sa hahaha regulasyon wala ini ginbuyagyag.\\nNaklaro lang ang asukal responsibilidad kagrabehon sang sitwasyon sang nagpagwa na sang reklamo ang mga administrasyong plantador sa Negros.\\nDiri nito napat-ud ang aktwal nga ito numero nga gina-import kada tuig kag ang mga mangin implikasyon sini sng sa igatuga luyag nga krisis sa ekonomiya regulation sang Negros tungod nahigot sa industriya sang kalamay ng obligasyon sang ang ekonomiya sini.',\n",
              " 'Bisan ang inutil nga Sugar Regulatory Administration (SRA) nga amo ang may responsibilidad regulasyon wala ini ginbuyagyag.\\nNaklaro lang ang kagrabehon sitwasyon sang nagpagwa na sang reklamo mga plantador sa Negros.\\nDiri napat-ud ang aktwal nga numero nga gina-import kada tuig ang mangin implikasyon sini sa igatuga krisis sa ekonomiya sang Negros tungod nahigot sa industriya sang kalamay ang ekonomiya sini.',\n",
              " 'gina-import igatuga inutil nga napat-ud Regulatory Administration ang nga kalamay ang Bisan sa reklamo regulasyon wala sitwasyon ginbuyagyag.\\nNaklaro ini ang kagrabehon sang lang sang nagpagwa na sang sa (SRA) mga plantador sa Negros.\\nDiri Sugar ang aktwal nga numero nga may kada tuig kag ang mangin implikasyon sini sa ang nga sini. responsibilidad ekonomiya sang Negros tungod nahigot krisis industriya sang amo ang ekonomiya sa']"
            ]
          },
          "execution_count": 22,
          "metadata": {},
          "output_type": "execute_result"
        }
      ],
      "source": [
        "augmented_sentences"
      ]
    },
    {
      "cell_type": "code",
      "execution_count": 29,
      "metadata": {
        "colab": {
          "base_uri": "https://localhost:8080/"
        },
        "id": "r8S2nkpezfI5",
        "outputId": "0d354957-894f-44bd-8eec-25a18bed8141"
      },
      "outputs": [],
      "source": [
        "# Join the augmented paragraphs with double newlines to retain paragraph breaks\n",
        "augmented_text = '\\n\\n'.join(augmented_paragraphs)"
      ]
    },
    {
      "cell_type": "code",
      "execution_count": 30,
      "metadata": {
        "id": "UWfQIfmJ0_kL"
      },
      "outputs": [],
      "source": [
        "with open(output_file_path, 'w', encoding='utf-8') as file:\n",
        "    file.write(augmented_text)"
      ]
    }
  ],
  "metadata": {
    "colab": {
      "provenance": []
    },
    "kernelspec": {
      "display_name": ".venv_3.9",
      "language": "python",
      "name": "python3"
    },
    "language_info": {
      "codemirror_mode": {
        "name": "ipython",
        "version": 3
      },
      "file_extension": ".py",
      "mimetype": "text/x-python",
      "name": "python",
      "nbconvert_exporter": "python",
      "pygments_lexer": "ipython3",
      "version": "3.9.0"
    }
  },
  "nbformat": 4,
  "nbformat_minor": 0
}
