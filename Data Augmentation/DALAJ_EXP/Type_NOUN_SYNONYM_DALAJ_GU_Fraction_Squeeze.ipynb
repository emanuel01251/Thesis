{
  "cells": [
    {
      "cell_type": "markdown",
      "metadata": {
        "id": "2CtH75gfazCq"
      },
      "source": []
    },
    {
      "cell_type": "code",
      "execution_count": 2,
      "metadata": {
        "colab": {
          "base_uri": "https://localhost:8080/"
        },
        "id": "0UmMWuow5eCj",
        "outputId": "81da9667-93f3-49ae-cb8f-84c4c30f39f9"
      },
      "outputs": [],
      "source": [
        "#Install python3.9 first"
      ]
    },
    {
      "cell_type": "code",
      "execution_count": 3,
      "metadata": {},
      "outputs": [
        {
          "name": "stdout",
          "output_type": "stream",
          "text": [
            "Sat Oct  5 16:01:17 2024       \n",
            "+-----------------------------------------------------------------------------------------+\n",
            "| NVIDIA-SMI 565.90                 Driver Version: 565.90         CUDA Version: 12.7     |\n",
            "|-----------------------------------------+------------------------+----------------------+\n",
            "| GPU  Name                  Driver-Model | Bus-Id          Disp.A | Volatile Uncorr. ECC |\n",
            "| Fan  Temp   Perf          Pwr:Usage/Cap |           Memory-Usage | GPU-Util  Compute M. |\n",
            "|                                         |                        |               MIG M. |\n",
            "|=========================================+========================+======================|\n",
            "|   0  NVIDIA GeForce RTX 4060 ...  WDDM  |   00000000:01:00.0 Off |                  N/A |\n",
            "| N/A   47C    P0             19W /  137W |       0MiB /   8188MiB |      0%      Default |\n",
            "|                                         |                        |                  N/A |\n",
            "+-----------------------------------------+------------------------+----------------------+\n",
            "                                                                                         \n",
            "+-----------------------------------------------------------------------------------------+\n",
            "| Processes:                                                                              |\n",
            "|  GPU   GI   CI        PID   Type   Process name                              GPU Memory |\n",
            "|        ID   ID                                                               Usage      |\n",
            "|=========================================================================================|\n",
            "|  No running processes found                                                             |\n",
            "+-----------------------------------------------------------------------------------------+\n"
          ]
        }
      ],
      "source": [
        "!nvidia-smi"
      ]
    },
    {
      "cell_type": "code",
      "execution_count": 4,
      "metadata": {
        "colab": {
          "base_uri": "https://localhost:8080/"
        },
        "id": "nY9XGIWhTDlI",
        "outputId": "6203fb0b-6dd0-4a6f-b304-d94e24e5e164"
      },
      "outputs": [
        {
          "name": "stderr",
          "output_type": "stream",
          "text": [
            "'wget' is not recognized as an internal or external command,\n",
            "operable program or batch file.\n"
          ]
        }
      ],
      "source": [
        "!wget https://svn.spraakdata.gu.se/sb-arkiv/pub/dalaj/datasetDaLAJsplit.csv\n"
      ]
    },
    {
      "cell_type": "code",
      "execution_count": 5,
      "metadata": {
        "id": "cpMVuMXZUeGX"
      },
      "outputs": [
        {
          "name": "stdout",
          "output_type": "stream",
          "text": [
            "Requirement already satisfied: pandas in c:\\users\\john nicolas\\downloads\\thesis\\.venv_3.9\\lib\\site-packages (2.2.3)\n",
            "Requirement already satisfied: python-dateutil>=2.8.2 in c:\\users\\john nicolas\\downloads\\thesis\\.venv_3.9\\lib\\site-packages (from pandas) (2.9.0.post0)\n",
            "Requirement already satisfied: numpy>=1.22.4; python_version < \"3.11\" in c:\\users\\john nicolas\\downloads\\thesis\\.venv_3.9\\lib\\site-packages (from pandas) (1.26.4)\n",
            "Requirement already satisfied: pytz>=2020.1 in c:\\users\\john nicolas\\downloads\\thesis\\.venv_3.9\\lib\\site-packages (from pandas) (2024.2)\n",
            "Requirement already satisfied: tzdata>=2022.7 in c:\\users\\john nicolas\\downloads\\thesis\\.venv_3.9\\lib\\site-packages (from pandas) (2024.2)\n",
            "Requirement already satisfied: six>=1.5 in c:\\users\\john nicolas\\downloads\\thesis\\.venv_3.9\\lib\\site-packages (from python-dateutil>=2.8.2->pandas) (1.16.0)\n",
            "Note: you may need to restart the kernel to use updated packages.\n"
          ]
        },
        {
          "name": "stderr",
          "output_type": "stream",
          "text": [
            "WARNING: You are using pip version 20.2.3; however, version 24.2 is available.\n",
            "You should consider upgrading via the 'c:\\Users\\John Nicolas\\Downloads\\Thesis\\.venv_3.9\\Scripts\\python.exe -m pip install --upgrade pip' command.\n"
          ]
        },
        {
          "name": "stdout",
          "output_type": "stream",
          "text": [
            "Requirement already satisfied: scikit-learn in c:\\users\\john nicolas\\downloads\\thesis\\.venv_3.9\\lib\\site-packages (1.5.2)\n",
            "Requirement already satisfied: numpy>=1.19.5 in c:\\users\\john nicolas\\downloads\\thesis\\.venv_3.9\\lib\\site-packages (from scikit-learn) (1.26.4)\n",
            "Requirement already satisfied: scipy>=1.6.0 in c:\\users\\john nicolas\\downloads\\thesis\\.venv_3.9\\lib\\site-packages (from scikit-learn) (1.10.1)\n",
            "Requirement already satisfied: joblib>=1.2.0 in c:\\users\\john nicolas\\downloads\\thesis\\.venv_3.9\\lib\\site-packages (from scikit-learn) (1.4.2)\n",
            "Requirement already satisfied: threadpoolctl>=3.1.0 in c:\\users\\john nicolas\\downloads\\thesis\\.venv_3.9\\lib\\site-packages (from scikit-learn) (3.5.0)\n",
            "Note: you may need to restart the kernel to use updated packages.\n"
          ]
        },
        {
          "name": "stderr",
          "output_type": "stream",
          "text": [
            "WARNING: You are using pip version 20.2.3; however, version 24.2 is available.\n",
            "You should consider upgrading via the 'c:\\Users\\John Nicolas\\Downloads\\Thesis\\.venv_3.9\\Scripts\\python.exe -m pip install --upgrade pip' command.\n"
          ]
        }
      ],
      "source": [
        "%pip install pandas\n",
        "%pip install scikit-learn\n",
        "import pandas as pd\n",
        "from sklearn.metrics import classification_report\n",
        "from sklearn.linear_model import LogisticRegression\n",
        "from sklearn import metrics\n",
        "\n"
      ]
    },
    {
      "cell_type": "code",
      "execution_count": 6,
      "metadata": {
        "id": "VRyFdCgvT5bv"
      },
      "outputs": [],
      "source": [
        "dalaj_df = pd.read_csv(\"./content/datasetDaLAJsplit.csv\")"
      ]
    },
    {
      "cell_type": "code",
      "execution_count": 7,
      "metadata": {
        "cellView": "form",
        "id": "Z9SI5HsXT-X9"
      },
      "outputs": [],
      "source": [
        "#@title Fix arrangement Train\n",
        "\n",
        "train_df = dalaj_df[dalaj_df['split'] == \"train\" ]\n",
        "\n",
        "sorted_items = []\n",
        "for idx, item in train_df.iterrows():\n",
        "  correct_dict = {\"Text\": item[\"corrected sentence\"],\"Label\":1}\n",
        "  sorted_items.append(correct_dict)\n",
        "\n",
        "  incorrect_dict = {\"Text\": item[\"original sentence\"],\"Label\":0}\n",
        "  sorted_items.append(incorrect_dict)\n",
        "\n",
        "final_train_df = pd.DataFrame(sorted_items)\n",
        "from sklearn.utils import shuffle\n",
        "final_train_df = shuffle(final_train_df)"
      ]
    },
    {
      "cell_type": "code",
      "execution_count": 8,
      "metadata": {
        "colab": {
          "base_uri": "https://localhost:8080/",
          "height": 424
        },
        "id": "vEpFBLrPqMup",
        "outputId": "4c2af545-385f-4cff-e2a8-654df9c8e29b"
      },
      "outputs": [
        {
          "data": {
            "text/html": [
              "<div>\n",
              "<style scoped>\n",
              "    .dataframe tbody tr th:only-of-type {\n",
              "        vertical-align: middle;\n",
              "    }\n",
              "\n",
              "    .dataframe tbody tr th {\n",
              "        vertical-align: top;\n",
              "    }\n",
              "\n",
              "    .dataframe thead th {\n",
              "        text-align: right;\n",
              "    }\n",
              "</style>\n",
              "<table border=\"1\" class=\"dataframe\">\n",
              "  <thead>\n",
              "    <tr style=\"text-align: right;\">\n",
              "      <th></th>\n",
              "      <th>Text</th>\n",
              "      <th>Label</th>\n",
              "    </tr>\n",
              "  </thead>\n",
              "  <tbody>\n",
              "    <tr>\n",
              "      <th>927</th>\n",
              "      <td>Du kan få på restaurang eller kafé med kompisa...</td>\n",
              "      <td>0</td>\n",
              "    </tr>\n",
              "    <tr>\n",
              "      <th>1237</th>\n",
              "      <td>B-stad-gen ishockeylag heter C-institution , d...</td>\n",
              "      <td>0</td>\n",
              "    </tr>\n",
              "    <tr>\n",
              "      <th>62</th>\n",
              "      <td>Teknologiutvecklingen är ett tveeggat svärd so...</td>\n",
              "      <td>1</td>\n",
              "    </tr>\n",
              "    <tr>\n",
              "      <th>3606</th>\n",
              "      <td>Men del en människor föredrar att inte resa , ...</td>\n",
              "      <td>1</td>\n",
              "    </tr>\n",
              "    <tr>\n",
              "      <th>1387</th>\n",
              "      <td>Stjärnlösa nätter är baserad i dagens samhälle...</td>\n",
              "      <td>0</td>\n",
              "    </tr>\n",
              "    <tr>\n",
              "      <th>...</th>\n",
              "      <td>...</td>\n",
              "      <td>...</td>\n",
              "    </tr>\n",
              "    <tr>\n",
              "      <th>6669</th>\n",
              "      <td>När jag promenerade forbi efter två minuter så...</td>\n",
              "      <td>0</td>\n",
              "    </tr>\n",
              "    <tr>\n",
              "      <th>2944</th>\n",
              "      <td>Pappan och andra mäktiga personer , som är fli...</td>\n",
              "      <td>1</td>\n",
              "    </tr>\n",
              "    <tr>\n",
              "      <th>5248</th>\n",
              "      <td>Nu är det enkelt att prata med en vän som leve...</td>\n",
              "      <td>1</td>\n",
              "    </tr>\n",
              "    <tr>\n",
              "      <th>6598</th>\n",
              "      <td>Alla vill ha den kartongen .</td>\n",
              "      <td>1</td>\n",
              "    </tr>\n",
              "    <tr>\n",
              "      <th>2399</th>\n",
              "      <td>När jag bodde i B-region tyckte jag om att gå ...</td>\n",
              "      <td>0</td>\n",
              "    </tr>\n",
              "  </tbody>\n",
              "</table>\n",
              "<p>7682 rows × 2 columns</p>\n",
              "</div>"
            ],
            "text/plain": [
              "                                                   Text  Label\n",
              "927   Du kan få på restaurang eller kafé med kompisa...      0\n",
              "1237  B-stad-gen ishockeylag heter C-institution , d...      0\n",
              "62    Teknologiutvecklingen är ett tveeggat svärd so...      1\n",
              "3606  Men del en människor föredrar att inte resa , ...      1\n",
              "1387  Stjärnlösa nätter är baserad i dagens samhälle...      0\n",
              "...                                                 ...    ...\n",
              "6669  När jag promenerade forbi efter två minuter så...      0\n",
              "2944  Pappan och andra mäktiga personer , som är fli...      1\n",
              "5248  Nu är det enkelt att prata med en vän som leve...      1\n",
              "6598                       Alla vill ha den kartongen .      1\n",
              "2399  När jag bodde i B-region tyckte jag om att gå ...      0\n",
              "\n",
              "[7682 rows x 2 columns]"
            ]
          },
          "execution_count": 8,
          "metadata": {},
          "output_type": "execute_result"
        }
      ],
      "source": [
        "final_train_df"
      ]
    },
    {
      "cell_type": "code",
      "execution_count": 9,
      "metadata": {
        "cellView": "form",
        "id": "AF6ANETnU-ZC"
      },
      "outputs": [],
      "source": [
        "#@title Fix arrangement for test\n",
        "\n",
        "test_df = dalaj_df[dalaj_df['split'] == \"test\" ]\n",
        "\n",
        "sorted_items = []\n",
        "for idx, item in test_df.iterrows():\n",
        "  correct_dict = {\"Text\": item[\"corrected sentence\"],\"Label\":1}\n",
        "  sorted_items.append(correct_dict)\n",
        "\n",
        "  incorrect_dict = {\"Text\": item[\"original sentence\"],\"Label\":0}\n",
        "  sorted_items.append(incorrect_dict)\n",
        "\n",
        "final_test_df = pd.DataFrame(sorted_items)\n",
        "from sklearn.utils import shuffle\n",
        "final_test_df = shuffle(final_test_df)\n"
      ]
    },
    {
      "cell_type": "code",
      "execution_count": 10,
      "metadata": {
        "colab": {
          "base_uri": "https://localhost:8080/",
          "height": 424
        },
        "id": "zclE-BjWVCw3",
        "outputId": "639c8353-bbea-48f0-ff33-da76f2f37982"
      },
      "outputs": [
        {
          "data": {
            "text/html": [
              "<div>\n",
              "<style scoped>\n",
              "    .dataframe tbody tr th:only-of-type {\n",
              "        vertical-align: middle;\n",
              "    }\n",
              "\n",
              "    .dataframe tbody tr th {\n",
              "        vertical-align: top;\n",
              "    }\n",
              "\n",
              "    .dataframe thead th {\n",
              "        text-align: right;\n",
              "    }\n",
              "</style>\n",
              "<table border=\"1\" class=\"dataframe\">\n",
              "  <thead>\n",
              "    <tr style=\"text-align: right;\">\n",
              "      <th></th>\n",
              "      <th>Text</th>\n",
              "      <th>Label</th>\n",
              "    </tr>\n",
              "  </thead>\n",
              "  <tbody>\n",
              "    <tr>\n",
              "      <th>495</th>\n",
              "      <td>Mitt hus har 4 rum och 3 sovrum , 2 bil garage...</td>\n",
              "      <td>0</td>\n",
              "    </tr>\n",
              "    <tr>\n",
              "      <th>410</th>\n",
              "      <td>Rösträtten kan skapa en tillhörighetskänsla , ...</td>\n",
              "      <td>1</td>\n",
              "    </tr>\n",
              "    <tr>\n",
              "      <th>277</th>\n",
              "      <td>Det är jätteviktigt för mig för att jag ska ku...</td>\n",
              "      <td>0</td>\n",
              "    </tr>\n",
              "    <tr>\n",
              "      <th>709</th>\n",
              "      <td>Visst är det fint att folk försöker hålla hårt...</td>\n",
              "      <td>0</td>\n",
              "    </tr>\n",
              "    <tr>\n",
              "      <th>643</th>\n",
              "      <td>Jag heter Maria Svensson och jag har anmält mi...</td>\n",
              "      <td>0</td>\n",
              "    </tr>\n",
              "    <tr>\n",
              "      <th>...</th>\n",
              "      <td>...</td>\n",
              "      <td>...</td>\n",
              "    </tr>\n",
              "    <tr>\n",
              "      <th>63</th>\n",
              "      <td>Ibland ville man fixa sig lite extra , ha bätt...</td>\n",
              "      <td>0</td>\n",
              "    </tr>\n",
              "    <tr>\n",
              "      <th>314</th>\n",
              "      <td>A-stad ligger bland många fina berg .</td>\n",
              "      <td>1</td>\n",
              "    </tr>\n",
              "    <tr>\n",
              "      <th>224</th>\n",
              "      <td>Men nu när jag bor i en fin lägenhet med min f...</td>\n",
              "      <td>1</td>\n",
              "    </tr>\n",
              "    <tr>\n",
              "      <th>874</th>\n",
              "      <td>Med alla de avbrutna utmaningarna blev det en ...</td>\n",
              "      <td>1</td>\n",
              "    </tr>\n",
              "    <tr>\n",
              "      <th>296</th>\n",
              "      <td>Jag tycker att det är bra att vi köper en pres...</td>\n",
              "      <td>1</td>\n",
              "    </tr>\n",
              "  </tbody>\n",
              "</table>\n",
              "<p>888 rows × 2 columns</p>\n",
              "</div>"
            ],
            "text/plain": [
              "                                                  Text  Label\n",
              "495  Mitt hus har 4 rum och 3 sovrum , 2 bil garage...      0\n",
              "410  Rösträtten kan skapa en tillhörighetskänsla , ...      1\n",
              "277  Det är jätteviktigt för mig för att jag ska ku...      0\n",
              "709  Visst är det fint att folk försöker hålla hårt...      0\n",
              "643  Jag heter Maria Svensson och jag har anmält mi...      0\n",
              "..                                                 ...    ...\n",
              "63   Ibland ville man fixa sig lite extra , ha bätt...      0\n",
              "314              A-stad ligger bland många fina berg .      1\n",
              "224  Men nu när jag bor i en fin lägenhet med min f...      1\n",
              "874  Med alla de avbrutna utmaningarna blev det en ...      1\n",
              "296  Jag tycker att det är bra att vi köper en pres...      1\n",
              "\n",
              "[888 rows x 2 columns]"
            ]
          },
          "execution_count": 10,
          "metadata": {},
          "output_type": "execute_result"
        }
      ],
      "source": [
        "final_test_df"
      ]
    },
    {
      "cell_type": "code",
      "execution_count": 11,
      "metadata": {
        "cellView": "form",
        "id": "srh8jiuSU4lM"
      },
      "outputs": [],
      "source": [
        "#@title sentence model\n",
        "#!pip install -U sentence-transformers\n",
        "#from sentence_transformers import SentenceTransformer, models\n",
        "\n",
        "#model_dir = 'Peltarion/xlm-roberta-longformer-base-4096'\n",
        "#mod = \"KB/bert-base-swedish-cased\"\n",
        "#sen_xlmr = \"sentence-transformers/paraphrase-xlm-r-multilingual-v1\"\n",
        "\n",
        "#word_embedding_model = models.Transformer(mod, tokenizer_name_or_path= mod , max_seq_length=512)\n",
        "#pooling_model = models.Pooling(word_embedding_model.get_word_embedding_dimension())\n",
        "\n",
        "#model = SentenceTransformer(modules=[word_embedding_model, pooling_model])"
      ]
    },
    {
      "cell_type": "markdown",
      "metadata": {
        "id": "PWv9suyZftF9"
      },
      "source": [
        "#EDA"
      ]
    },
    {
      "cell_type": "code",
      "execution_count": 12,
      "metadata": {
        "cellView": "form",
        "id": "mRqv7ZfGcZst"
      },
      "outputs": [
        {
          "name": "stderr",
          "output_type": "stream",
          "text": [
            "fatal: destination path 'swe_aug' already exists and is not an empty directory.\n"
          ]
        },
        {
          "name": "stdout",
          "output_type": "stream",
          "text": [
            "Note: you may need to restart the kernel to use updated packages.\n"
          ]
        },
        {
          "name": "stderr",
          "output_type": "stream",
          "text": [
            "ERROR: Could not open requirements file: [Errno 2] No such file or directory: 'requirements.txt'\n",
            "WARNING: You are using pip version 20.2.3; however, version 24.2 is available.\n",
            "You should consider upgrading via the 'c:\\Users\\John Nicolas\\Downloads\\Thesis\\.venv_3.9\\Scripts\\python.exe -m pip install --upgrade pip' command.\n",
            "'wget' is not recognized as an internal or external command,\n",
            "operable program or batch file.\n",
            "'bzip2' is not recognized as an internal or external command,\n",
            "operable program or batch file.\n"
          ]
        },
        {
          "name": "stdout",
          "output_type": "stream",
          "text": [
            "<class 'type'>\n",
            "Already downloaded a model for the 'sv' language\n"
          ]
        },
        {
          "name": "stderr",
          "output_type": "stream",
          "text": [
            "c:\\Users\\John Nicolas\\Downloads\\Thesis\\.venv_3.9\\lib\\site-packages\\torch\\__init__.py:955: UserWarning: torch.set_default_tensor_type() is deprecated as of PyTorch 2.1, please use torch.set_default_dtype() and torch.set_default_device() as alternatives. (Triggered internally at C:\\actions-runner\\_work\\pytorch\\pytorch\\builder\\windows\\pytorch\\torch\\csrc\\tensor\\python_tensor.cpp:434.)\n",
            "  _C._set_default_tensor_type(t)\n",
            "[nltk_data] Downloading package stopwords to C:\\Users\\John\n",
            "[nltk_data]     Nicolas\\AppData\\Roaming\\nltk_data...\n",
            "[nltk_data]   Package stopwords is already up-to-date!\n"
          ]
        }
      ],
      "source": [
        "import os\n",
        "\n",
        "# Construct the absolute path using the current working directory\n",
        "current_dir = os.getcwd()\n",
        "\n",
        "#@title EDA\n",
        "!git clone https://github.com/mosh98/swe_aug.git\n",
        "%pip install -r requirements.txt\n",
        "\"\"\" if cant install because of access denied: https://stackoverflow.com/questions/64278198/error-can-not-perform-a-user-install-user-site-packages-are-not-visible-in \"\"\"\n",
        "!wget https://www.ida.liu.se/divisions/hcs/nlplab/swectors/swectors-300dim.txt.bz2\n",
        "!bzip2 -dk /content/swectors-300dim.txt.bz2\n",
        "\n",
        "\n",
        "word_vec_path = os.path.join(current_dir, \"content\", \"swectors-300dim.txt\")\n",
        "\n",
        "\"\"\" word_vec_path = \"./content/swectors-300dim.txt\" \"\"\"\n",
        "\n",
        "from swe_aug import EDA\n",
        "print(type(EDA.Enkel_Data_Augmentation)) #for debugging purposes\n",
        "aug = EDA.Enkel_Data_Augmentation(word_vec_path)"
      ]
    },
    {
      "cell_type": "markdown",
      "metadata": {
        "id": "3HKlFNOlfkuq"
      },
      "source": [
        "# Fraction of Dataset\n"
      ]
    },
    {
      "cell_type": "code",
      "execution_count": 13,
      "metadata": {},
      "outputs": [
        {
          "name": "stdout",
          "output_type": "stream",
          "text": [
            "Requirement already satisfied: transformers in c:\\users\\john nicolas\\downloads\\thesis\\.venv_3.9\\lib\\site-packages (4.42.3)\n",
            "Requirement already satisfied: pyyaml>=5.1 in c:\\users\\john nicolas\\downloads\\thesis\\.venv_3.9\\lib\\site-packages (from transformers) (6.0.2)\n",
            "Requirement already satisfied: huggingface-hub<1.0,>=0.23.2 in c:\\users\\john nicolas\\downloads\\thesis\\.venv_3.9\\lib\\site-packages (from transformers) (0.25.1)\n",
            "Requirement already satisfied: tqdm>=4.27 in c:\\users\\john nicolas\\downloads\\thesis\\.venv_3.9\\lib\\site-packages (from transformers) (4.66.5)\n",
            "Requirement already satisfied: numpy<2.0,>=1.17 in c:\\users\\john nicolas\\downloads\\thesis\\.venv_3.9\\lib\\site-packages (from transformers) (1.26.4)\n",
            "Requirement already satisfied: regex!=2019.12.17 in c:\\users\\john nicolas\\downloads\\thesis\\.venv_3.9\\lib\\site-packages (from transformers) (2024.9.11)\n",
            "Requirement already satisfied: requests in c:\\users\\john nicolas\\downloads\\thesis\\.venv_3.9\\lib\\site-packages (from transformers) (2.32.3)\n",
            "Requirement already satisfied: safetensors>=0.4.1 in c:\\users\\john nicolas\\downloads\\thesis\\.venv_3.9\\lib\\site-packages (from transformers) (0.4.5)\n",
            "Requirement already satisfied: filelock in c:\\users\\john nicolas\\downloads\\thesis\\.venv_3.9\\lib\\site-packages (from transformers) (3.16.1)\n",
            "Requirement already satisfied: tokenizers<0.20,>=0.19 in c:\\users\\john nicolas\\downloads\\thesis\\.venv_3.9\\lib\\site-packages (from transformers) (0.19.1)\n",
            "Requirement already satisfied: packaging>=20.0 in c:\\users\\john nicolas\\downloads\\thesis\\.venv_3.9\\lib\\site-packages (from transformers) (24.1)\n",
            "Requirement already satisfied: typing-extensions>=3.7.4.3 in c:\\users\\john nicolas\\downloads\\thesis\\.venv_3.9\\lib\\site-packages (from huggingface-hub<1.0,>=0.23.2->transformers) (4.12.2)\n",
            "Requirement already satisfied: fsspec>=2023.5.0 in c:\\users\\john nicolas\\downloads\\thesis\\.venv_3.9\\lib\\site-packages (from huggingface-hub<1.0,>=0.23.2->transformers) (2024.6.1)\n",
            "Requirement already satisfied: colorama; platform_system == \"Windows\" in c:\\users\\john nicolas\\downloads\\thesis\\.venv_3.9\\lib\\site-packages (from tqdm>=4.27->transformers) (0.4.6)\n",
            "Requirement already satisfied: urllib3<3,>=1.21.1 in c:\\users\\john nicolas\\downloads\\thesis\\.venv_3.9\\lib\\site-packages (from requests->transformers) (2.2.3)\n",
            "Requirement already satisfied: certifi>=2017.4.17 in c:\\users\\john nicolas\\downloads\\thesis\\.venv_3.9\\lib\\site-packages (from requests->transformers) (2024.8.30)\n",
            "Requirement already satisfied: charset-normalizer<4,>=2 in c:\\users\\john nicolas\\downloads\\thesis\\.venv_3.9\\lib\\site-packages (from requests->transformers) (3.3.2)\n",
            "Requirement already satisfied: idna<4,>=2.5 in c:\\users\\john nicolas\\downloads\\thesis\\.venv_3.9\\lib\\site-packages (from requests->transformers) (3.10)\n"
          ]
        },
        {
          "name": "stderr",
          "output_type": "stream",
          "text": [
            "WARNING: You are using pip version 20.2.3; however, version 24.2 is available.\n",
            "You should consider upgrading via the 'c:\\users\\john nicolas\\downloads\\thesis\\.venv_3.9\\scripts\\python.exe -m pip install --upgrade pip' command.\n"
          ]
        },
        {
          "name": "stdout",
          "output_type": "stream",
          "text": [
            "Requirement already satisfied: MultiEncoder==0.0.6 in c:\\users\\john nicolas\\downloads\\thesis\\.venv_3.9\\lib\\site-packages (0.0.6)\n"
          ]
        },
        {
          "name": "stderr",
          "output_type": "stream",
          "text": [
            "WARNING: You are using pip version 20.2.3; however, version 24.2 is available.\n",
            "You should consider upgrading via the 'c:\\users\\john nicolas\\downloads\\thesis\\.venv_3.9\\scripts\\python.exe -m pip install --upgrade pip' command.\n"
          ]
        },
        {
          "name": "stdout",
          "output_type": "stream",
          "text": [
            "Requirement already satisfied: ipywidgets in c:\\users\\john nicolas\\downloads\\thesis\\.venv_3.9\\lib\\site-packages (8.1.5)\n",
            "Requirement already satisfied: traitlets>=4.3.1 in c:\\users\\john nicolas\\downloads\\thesis\\.venv_3.9\\lib\\site-packages (from ipywidgets) (5.14.3)\n",
            "Requirement already satisfied: comm>=0.1.3 in c:\\users\\john nicolas\\downloads\\thesis\\.venv_3.9\\lib\\site-packages (from ipywidgets) (0.2.2)\n",
            "Requirement already satisfied: widgetsnbextension~=4.0.12 in c:\\users\\john nicolas\\downloads\\thesis\\.venv_3.9\\lib\\site-packages (from ipywidgets) (4.0.13)\n",
            "Requirement already satisfied: ipython>=6.1.0 in c:\\users\\john nicolas\\downloads\\thesis\\.venv_3.9\\lib\\site-packages (from ipywidgets) (8.18.1)\n",
            "Requirement already satisfied: jupyterlab-widgets~=3.0.12 in c:\\users\\john nicolas\\downloads\\thesis\\.venv_3.9\\lib\\site-packages (from ipywidgets) (3.0.13)\n",
            "Requirement already satisfied: matplotlib-inline in c:\\users\\john nicolas\\downloads\\thesis\\.venv_3.9\\lib\\site-packages (from ipython>=6.1.0->ipywidgets) (0.1.7)\n",
            "Requirement already satisfied: prompt-toolkit<3.1.0,>=3.0.41 in c:\\users\\john nicolas\\downloads\\thesis\\.venv_3.9\\lib\\site-packages (from ipython>=6.1.0->ipywidgets) (3.0.48)\n",
            "Requirement already satisfied: exceptiongroup; python_version < \"3.11\" in c:\\users\\john nicolas\\downloads\\thesis\\.venv_3.9\\lib\\site-packages (from ipython>=6.1.0->ipywidgets) (1.2.2)\n",
            "Requirement already satisfied: jedi>=0.16 in c:\\users\\john nicolas\\downloads\\thesis\\.venv_3.9\\lib\\site-packages (from ipython>=6.1.0->ipywidgets) (0.19.1)\n",
            "Requirement already satisfied: pygments>=2.4.0 in c:\\users\\john nicolas\\downloads\\thesis\\.venv_3.9\\lib\\site-packages (from ipython>=6.1.0->ipywidgets) (2.18.0)\n",
            "Requirement already satisfied: stack-data in c:\\users\\john nicolas\\downloads\\thesis\\.venv_3.9\\lib\\site-packages (from ipython>=6.1.0->ipywidgets) (0.6.3)\n",
            "Requirement already satisfied: typing-extensions; python_version < \"3.10\" in c:\\users\\john nicolas\\downloads\\thesis\\.venv_3.9\\lib\\site-packages (from ipython>=6.1.0->ipywidgets) (4.12.2)\n",
            "Requirement already satisfied: colorama; sys_platform == \"win32\" in c:\\users\\john nicolas\\downloads\\thesis\\.venv_3.9\\lib\\site-packages (from ipython>=6.1.0->ipywidgets) (0.4.6)\n",
            "Requirement already satisfied: decorator in c:\\users\\john nicolas\\downloads\\thesis\\.venv_3.9\\lib\\site-packages (from ipython>=6.1.0->ipywidgets) (5.1.1)\n",
            "Requirement already satisfied: wcwidth in c:\\users\\john nicolas\\downloads\\thesis\\.venv_3.9\\lib\\site-packages (from prompt-toolkit<3.1.0,>=3.0.41->ipython>=6.1.0->ipywidgets) (0.2.13)\n",
            "Requirement already satisfied: parso<0.9.0,>=0.8.3 in c:\\users\\john nicolas\\downloads\\thesis\\.venv_3.9\\lib\\site-packages (from jedi>=0.16->ipython>=6.1.0->ipywidgets) (0.8.4)\n",
            "Requirement already satisfied: pure-eval in c:\\users\\john nicolas\\downloads\\thesis\\.venv_3.9\\lib\\site-packages (from stack-data->ipython>=6.1.0->ipywidgets) (0.2.3)\n",
            "Requirement already satisfied: executing>=1.2.0 in c:\\users\\john nicolas\\downloads\\thesis\\.venv_3.9\\lib\\site-packages (from stack-data->ipython>=6.1.0->ipywidgets) (2.1.0)\n",
            "Requirement already satisfied: asttokens>=2.1.0 in c:\\users\\john nicolas\\downloads\\thesis\\.venv_3.9\\lib\\site-packages (from stack-data->ipython>=6.1.0->ipywidgets) (2.4.1)\n",
            "Requirement already satisfied: six>=1.12.0 in c:\\users\\john nicolas\\downloads\\thesis\\.venv_3.9\\lib\\site-packages (from asttokens>=2.1.0->stack-data->ipython>=6.1.0->ipywidgets) (1.16.0)\n"
          ]
        },
        {
          "name": "stderr",
          "output_type": "stream",
          "text": [
            "WARNING: You are using pip version 20.2.3; however, version 24.2 is available.\n",
            "You should consider upgrading via the 'c:\\users\\john nicolas\\downloads\\thesis\\.venv_3.9\\scripts\\python.exe -m pip install --upgrade pip' command.\n"
          ]
        },
        {
          "name": "stdout",
          "output_type": "stream",
          "text": [
            "Requirement already satisfied: torch in c:\\users\\john nicolas\\downloads\\thesis\\.venv_3.9\\lib\\site-packages (2.4.1+cu118)\n",
            "Requirement already satisfied: networkx in c:\\users\\john nicolas\\downloads\\thesis\\.venv_3.9\\lib\\site-packages (from torch) (3.2.1)\n",
            "Requirement already satisfied: fsspec in c:\\users\\john nicolas\\downloads\\thesis\\.venv_3.9\\lib\\site-packages (from torch) (2024.6.1)\n",
            "Requirement already satisfied: filelock in c:\\users\\john nicolas\\downloads\\thesis\\.venv_3.9\\lib\\site-packages (from torch) (3.16.1)\n",
            "Requirement already satisfied: jinja2 in c:\\users\\john nicolas\\downloads\\thesis\\.venv_3.9\\lib\\site-packages (from torch) (3.1.4)\n",
            "Requirement already satisfied: typing-extensions>=4.8.0 in c:\\users\\john nicolas\\downloads\\thesis\\.venv_3.9\\lib\\site-packages (from torch) (4.12.2)\n",
            "Requirement already satisfied: sympy in c:\\users\\john nicolas\\downloads\\thesis\\.venv_3.9\\lib\\site-packages (from torch) (1.13.3)\n",
            "Requirement already satisfied: MarkupSafe>=2.0 in c:\\users\\john nicolas\\downloads\\thesis\\.venv_3.9\\lib\\site-packages (from jinja2->torch) (2.1.5)\n",
            "Requirement already satisfied: mpmath<1.4,>=1.1.0 in c:\\users\\john nicolas\\downloads\\thesis\\.venv_3.9\\lib\\site-packages (from sympy->torch) (1.3.0)\n"
          ]
        },
        {
          "name": "stderr",
          "output_type": "stream",
          "text": [
            "WARNING: You are using pip version 20.2.3; however, version 24.2 is available.\n",
            "You should consider upgrading via the 'c:\\users\\john nicolas\\downloads\\thesis\\.venv_3.9\\scripts\\python.exe -m pip install --upgrade pip' command.\n"
          ]
        },
        {
          "name": "stdout",
          "output_type": "stream",
          "text": [
            "Requirement already satisfied: ultralytics in c:\\users\\john nicolas\\downloads\\thesis\\.venv_3.9\\lib\\site-packages (8.3.5)\n",
            "Requirement already satisfied: tqdm>=4.64.0 in c:\\users\\john nicolas\\downloads\\thesis\\.venv_3.9\\lib\\site-packages (from ultralytics) (4.66.5)\n",
            "Requirement already satisfied: matplotlib>=3.3.0 in c:\\users\\john nicolas\\downloads\\thesis\\.venv_3.9\\lib\\site-packages (from ultralytics) (3.9.2)\n",
            "Requirement already satisfied: torch>=1.8.0 in c:\\users\\john nicolas\\downloads\\thesis\\.venv_3.9\\lib\\site-packages (from ultralytics) (2.4.1+cu118)\n",
            "Requirement already satisfied: scipy>=1.4.1 in c:\\users\\john nicolas\\downloads\\thesis\\.venv_3.9\\lib\\site-packages (from ultralytics) (1.10.1)\n",
            "Requirement already satisfied: pyyaml>=5.3.1 in c:\\users\\john nicolas\\downloads\\thesis\\.venv_3.9\\lib\\site-packages (from ultralytics) (6.0.2)\n",
            "Requirement already satisfied: requests>=2.23.0 in c:\\users\\john nicolas\\downloads\\thesis\\.venv_3.9\\lib\\site-packages (from ultralytics) (2.32.3)\n",
            "Requirement already satisfied: py-cpuinfo in c:\\users\\john nicolas\\downloads\\thesis\\.venv_3.9\\lib\\site-packages (from ultralytics) (9.0.0)\n",
            "Requirement already satisfied: pillow>=7.1.2 in c:\\users\\john nicolas\\downloads\\thesis\\.venv_3.9\\lib\\site-packages (from ultralytics) (10.2.0)\n",
            "Requirement already satisfied: psutil in c:\\users\\john nicolas\\downloads\\thesis\\.venv_3.9\\lib\\site-packages (from ultralytics) (6.0.0)\n",
            "Requirement already satisfied: seaborn>=0.11.0 in c:\\users\\john nicolas\\downloads\\thesis\\.venv_3.9\\lib\\site-packages (from ultralytics) (0.13.2)\n",
            "Requirement already satisfied: torchvision>=0.9.0 in c:\\users\\john nicolas\\downloads\\thesis\\.venv_3.9\\lib\\site-packages (from ultralytics) (0.19.1+cu118)\n",
            "Requirement already satisfied: numpy>=1.23.0 in c:\\users\\john nicolas\\downloads\\thesis\\.venv_3.9\\lib\\site-packages (from ultralytics) (1.26.4)\n",
            "Requirement already satisfied: pandas>=1.1.4 in c:\\users\\john nicolas\\downloads\\thesis\\.venv_3.9\\lib\\site-packages (from ultralytics) (2.2.3)\n",
            "Requirement already satisfied: opencv-python>=4.6.0 in c:\\users\\john nicolas\\downloads\\thesis\\.venv_3.9\\lib\\site-packages (from ultralytics) (4.10.0.84)\n",
            "Requirement already satisfied: ultralytics-thop>=2.0.0 in c:\\users\\john nicolas\\downloads\\thesis\\.venv_3.9\\lib\\site-packages (from ultralytics) (2.0.8)\n",
            "Requirement already satisfied: colorama; platform_system == \"Windows\" in c:\\users\\john nicolas\\downloads\\thesis\\.venv_3.9\\lib\\site-packages (from tqdm>=4.64.0->ultralytics) (0.4.6)\n",
            "Requirement already satisfied: packaging>=20.0 in c:\\users\\john nicolas\\downloads\\thesis\\.venv_3.9\\lib\\site-packages (from matplotlib>=3.3.0->ultralytics) (24.1)\n",
            "Requirement already satisfied: fonttools>=4.22.0 in c:\\users\\john nicolas\\downloads\\thesis\\.venv_3.9\\lib\\site-packages (from matplotlib>=3.3.0->ultralytics) (4.54.1)\n",
            "Requirement already satisfied: contourpy>=1.0.1 in c:\\users\\john nicolas\\downloads\\thesis\\.venv_3.9\\lib\\site-packages (from matplotlib>=3.3.0->ultralytics) (1.3.0)\n",
            "Requirement already satisfied: pyparsing>=2.3.1 in c:\\users\\john nicolas\\downloads\\thesis\\.venv_3.9\\lib\\site-packages (from matplotlib>=3.3.0->ultralytics) (3.1.4)\n",
            "Requirement already satisfied: importlib-resources>=3.2.0; python_version < \"3.10\" in c:\\users\\john nicolas\\downloads\\thesis\\.venv_3.9\\lib\\site-packages (from matplotlib>=3.3.0->ultralytics) (6.4.5)\n",
            "Requirement already satisfied: python-dateutil>=2.7 in c:\\users\\john nicolas\\downloads\\thesis\\.venv_3.9\\lib\\site-packages (from matplotlib>=3.3.0->ultralytics) (2.9.0.post0)\n",
            "Requirement already satisfied: cycler>=0.10 in c:\\users\\john nicolas\\downloads\\thesis\\.venv_3.9\\lib\\site-packages (from matplotlib>=3.3.0->ultralytics) (0.12.1)\n",
            "Requirement already satisfied: kiwisolver>=1.3.1 in c:\\users\\john nicolas\\downloads\\thesis\\.venv_3.9\\lib\\site-packages (from matplotlib>=3.3.0->ultralytics) (1.4.7)\n",
            "Requirement already satisfied: typing-extensions>=4.8.0 in c:\\users\\john nicolas\\downloads\\thesis\\.venv_3.9\\lib\\site-packages (from torch>=1.8.0->ultralytics) (4.12.2)\n",
            "Requirement already satisfied: filelock in c:\\users\\john nicolas\\downloads\\thesis\\.venv_3.9\\lib\\site-packages (from torch>=1.8.0->ultralytics) (3.16.1)\n",
            "Requirement already satisfied: sympy in c:\\users\\john nicolas\\downloads\\thesis\\.venv_3.9\\lib\\site-packages (from torch>=1.8.0->ultralytics) (1.13.3)\n",
            "Requirement already satisfied: fsspec in c:\\users\\john nicolas\\downloads\\thesis\\.venv_3.9\\lib\\site-packages (from torch>=1.8.0->ultralytics) (2024.6.1)\n",
            "Requirement already satisfied: jinja2 in c:\\users\\john nicolas\\downloads\\thesis\\.venv_3.9\\lib\\site-packages (from torch>=1.8.0->ultralytics) (3.1.4)\n",
            "Requirement already satisfied: networkx in c:\\users\\john nicolas\\downloads\\thesis\\.venv_3.9\\lib\\site-packages (from torch>=1.8.0->ultralytics) (3.2.1)\n",
            "Requirement already satisfied: urllib3<3,>=1.21.1 in c:\\users\\john nicolas\\downloads\\thesis\\.venv_3.9\\lib\\site-packages (from requests>=2.23.0->ultralytics) (2.2.3)\n",
            "Requirement already satisfied: certifi>=2017.4.17 in c:\\users\\john nicolas\\downloads\\thesis\\.venv_3.9\\lib\\site-packages (from requests>=2.23.0->ultralytics) (2024.8.30)\n",
            "Requirement already satisfied: idna<4,>=2.5 in c:\\users\\john nicolas\\downloads\\thesis\\.venv_3.9\\lib\\site-packages (from requests>=2.23.0->ultralytics) (3.10)\n",
            "Requirement already satisfied: charset-normalizer<4,>=2 in c:\\users\\john nicolas\\downloads\\thesis\\.venv_3.9\\lib\\site-packages (from requests>=2.23.0->ultralytics) (3.3.2)\n",
            "Requirement already satisfied: pytz>=2020.1 in c:\\users\\john nicolas\\downloads\\thesis\\.venv_3.9\\lib\\site-packages (from pandas>=1.1.4->ultralytics) (2024.2)\n",
            "Requirement already satisfied: tzdata>=2022.7 in c:\\users\\john nicolas\\downloads\\thesis\\.venv_3.9\\lib\\site-packages (from pandas>=1.1.4->ultralytics) (2024.2)\n",
            "Requirement already satisfied: zipp>=3.1.0; python_version < \"3.10\" in c:\\users\\john nicolas\\downloads\\thesis\\.venv_3.9\\lib\\site-packages (from importlib-resources>=3.2.0; python_version < \"3.10\"->matplotlib>=3.3.0->ultralytics) (3.20.2)\n",
            "Requirement already satisfied: six>=1.5 in c:\\users\\john nicolas\\downloads\\thesis\\.venv_3.9\\lib\\site-packages (from python-dateutil>=2.7->matplotlib>=3.3.0->ultralytics) (1.16.0)\n",
            "Requirement already satisfied: mpmath<1.4,>=1.1.0 in c:\\users\\john nicolas\\downloads\\thesis\\.venv_3.9\\lib\\site-packages (from sympy->torch>=1.8.0->ultralytics) (1.3.0)\n",
            "Requirement already satisfied: MarkupSafe>=2.0 in c:\\users\\john nicolas\\downloads\\thesis\\.venv_3.9\\lib\\site-packages (from jinja2->torch>=1.8.0->ultralytics) (2.1.5)\n"
          ]
        },
        {
          "name": "stderr",
          "output_type": "stream",
          "text": [
            "WARNING: You are using pip version 20.2.3; however, version 24.2 is available.\n",
            "You should consider upgrading via the 'c:\\users\\john nicolas\\downloads\\thesis\\.venv_3.9\\scripts\\python.exe -m pip install --upgrade pip' command.\n"
          ]
        }
      ],
      "source": [
        "!pip install transformers\n",
        "!pip install MultiEncoder==0.0.6\n",
        "!pip install ipywidgets\n",
        "!pip install torch\n",
        "!pip install ultralytics\n",
        "#https://stackoverflow.com/questions/78114412/import-torch-how-to-fix-oserror-winerror-126-error-loading-fbgemm-dll-or-depen (if theres an error)"
      ]
    },
    {
      "cell_type": "code",
      "execution_count": 14,
      "metadata": {
        "id": "W_w2j7PNPOK1"
      },
      "outputs": [
        {
          "name": "stdout",
          "output_type": "stream",
          "text": [
            "There are 1 GPU(s) available.\n",
            "Device name: NVIDIA GeForce RTX 4060 Laptop GPU\n"
          ]
        }
      ],
      "source": [
        "mod = \"KB/bert-base-swedish-cased\"\n",
        "from mle import multi_layer_encoder\n",
        "le = multi_layer_encoder.multi_layer_encoder(mod)"
      ]
    },
    {
      "cell_type": "code",
      "execution_count": 15,
      "metadata": {
        "cellView": "form",
        "id": "-Sr5gZetf1mF"
      },
      "outputs": [],
      "source": [
        "#@title\n",
        "\n",
        "from sklearn.model_selection import train_test_split\n",
        "\n",
        "\n",
        "def frac(dataframe, fraction,label):\n",
        "    \"\"\"Returns fraction of data\"\"\"\n",
        "    if fraction == 1.0:\n",
        "      return dataframe\n",
        "      \n",
        "    y = dataframe[label]\n",
        "    train, test = train_test_split(dataframe,train_size=fraction,stratify = y)\n",
        "    \n",
        "    return train\n",
        "\n",
        "def encode_df(dataframe, mod=None,col = \"text\"):\n",
        "  encoded = []\n",
        "  for idx, item in dataframe.iterrows():\n",
        "        list_of_encoded_inputs, dect = le.multi_encode(item.Text)\n",
        "        encoded.append(list_of_encoded_inputs[1])\n",
        "        #encoded.append(model.encode(item[col])) \n",
        "\n",
        "  return encoded\n",
        "\n",
        "\n",
        "reports = [] #clf_report (Before Augment, After Augment)\n"
      ]
    },
    {
      "cell_type": "code",
      "execution_count": 16,
      "metadata": {
        "cellView": "form",
        "colab": {
          "base_uri": "https://localhost:8080/"
        },
        "id": "Vr9Yj46tqlCw",
        "outputId": "4bfba69d-7dcc-40ba-c519-f6865f5e577e"
      },
      "outputs": [
        {
          "name": "stderr",
          "output_type": "stream",
          "text": [
            "Asking to truncate to max_length but no maximum length is provided and the model has no predefined maximum length. Default to no truncation.\n",
            "c:\\Users\\John Nicolas\\Downloads\\Thesis\\.venv_3.9\\lib\\site-packages\\transformers\\models\\bert\\modeling_bert.py:439: UserWarning: 1Torch was not compiled with flash attention. (Triggered internally at C:\\actions-runner\\_work\\pytorch\\pytorch\\builder\\windows\\pytorch\\aten\\src\\ATen\\native\\transformers\\cuda\\sdp_utils.cpp:555.)\n",
            "  attn_output = torch.nn.functional.scaled_dot_product_attention(\n"
          ]
        }
      ],
      "source": [
        "#@title\n",
        "test_embed = []\n",
        "\n",
        "y_test = final_test_df.Label\n",
        "\n",
        "for idx, item in final_test_df.iterrows():\n",
        "      list_of_encoded_inputs, dect = le.multi_encode(item.Text)\n",
        "      test_embed.append(list_of_encoded_inputs[1])\n",
        "#test_embed.append(model.encode(item.Text))\n",
        "  "
      ]
    },
    {
      "cell_type": "code",
      "execution_count": 17,
      "metadata": {
        "cellView": "form",
        "colab": {
          "base_uri": "https://localhost:8080/"
        },
        "id": "9kr3mxNL0fJY",
        "outputId": "4b2152ee-af43-4b8d-cf7e-93e50ce80428"
      },
      "outputs": [
        {
          "name": "stdout",
          "output_type": "stream",
          "text": [
            "Collecting SpaceAugmentation\n",
            "  Downloading SpaceAugmentation-0.0.2-py3-none-any.whl (4.6 kB)\n",
            "Installing collected packages: SpaceAugmentation\n",
            "Successfully installed SpaceAugmentation-0.0.2\n"
          ]
        },
        {
          "name": "stderr",
          "output_type": "stream",
          "text": [
            "WARNING: You are using pip version 20.2.3; however, version 24.2 is available.\n",
            "You should consider upgrading via the 'c:\\users\\john nicolas\\downloads\\thesis\\.venv_3.9\\scripts\\python.exe -m pip install --upgrade pip' command.\n"
          ]
        }
      ],
      "source": [
        "#@title\n",
        "#from swe_aug.Other_Techniques import Text_Cropping\n",
        "#frag = Text_Cropping.cropper(percent = 0.25)\n",
        "!pip install SpaceAugmentation\n",
        "from aug import Augmentation\n",
        "\n",
        "ag = Augmentation.Augmentation()"
      ]
    },
    {
      "cell_type": "code",
      "execution_count": 18,
      "metadata": {
        "cellView": "form",
        "colab": {
          "base_uri": "https://localhost:8080/"
        },
        "id": "6x7wWhJTZ2xA",
        "outputId": "b87dc599-5de1-4ca0-9b4b-c3931b98ece6"
      },
      "outputs": [
        {
          "name": "stdout",
          "output_type": "stream",
          "text": [
            "Already downloaded a model for the 'sv' language\n"
          ]
        },
        {
          "name": "stderr",
          "output_type": "stream",
          "text": [
            "[nltk_data] Downloading package stopwords to C:\\Users\\John\n",
            "[nltk_data]     Nicolas\\AppData\\Roaming\\nltk_data...\n",
            "[nltk_data]   Package stopwords is already up-to-date!\n"
          ]
        }
      ],
      "source": [
        "#@title\n",
        "from swe_aug.Other_Techniques import Type_SR\n",
        "aug = Type_SR.type_DA(word_vec_path)"
      ]
    },
    {
      "cell_type": "code",
      "execution_count": 19,
      "metadata": {
        "colab": {
          "base_uri": "https://localhost:8080/"
        },
        "id": "qU1sg9wXgtMf",
        "outputId": "566b67af-04e0-4d0a-eebf-ed959ecd7c8d"
      },
      "outputs": [
        {
          "name": "stdout",
          "output_type": "stream",
          "text": [
            "______________________________________________\n",
            "Percentage 10\n",
            "Before Augmentation size:  (768, 2)\n",
            "Before Augmentation\n",
            "              precision    recall  f1-score   support\n",
            "\n",
            "           0       0.60      0.31      0.41       444\n",
            "           1       0.53      0.79      0.64       444\n",
            "\n",
            "    accuracy                           0.55       888\n",
            "   macro avg       0.57      0.55      0.52       888\n",
            "weighted avg       0.57      0.55      0.52       888\n",
            "\n",
            " \n",
            "After Augmentation size:  1536\n",
            "After Augmentation\n",
            "              precision    recall  f1-score   support\n",
            "\n",
            "           0       0.60      0.45      0.51       444\n",
            "           1       0.56      0.70      0.62       444\n",
            "\n",
            "    accuracy                           0.58       888\n",
            "   macro avg       0.58      0.58      0.57       888\n",
            "weighted avg       0.58      0.58      0.57       888\n",
            "\n",
            "______________________________________________\n",
            "______________________________________________\n",
            "Percentage 20\n",
            "Before Augmentation size:  (1536, 2)\n",
            "Before Augmentation\n",
            "              precision    recall  f1-score   support\n",
            "\n",
            "           0       0.58      0.50      0.54       444\n",
            "           1       0.56      0.63      0.59       444\n",
            "\n",
            "    accuracy                           0.57       888\n",
            "   macro avg       0.57      0.57      0.57       888\n",
            "weighted avg       0.57      0.57      0.57       888\n",
            "\n",
            " \n",
            "After Augmentation size:  3072\n",
            "After Augmentation\n",
            "              precision    recall  f1-score   support\n",
            "\n",
            "           0       0.55      0.78      0.65       444\n",
            "           1       0.62      0.36      0.45       444\n",
            "\n",
            "    accuracy                           0.57       888\n",
            "   macro avg       0.59      0.57      0.55       888\n",
            "weighted avg       0.59      0.57      0.55       888\n",
            "\n",
            "______________________________________________\n",
            "______________________________________________\n",
            "Percentage 30\n",
            "Before Augmentation size:  (2304, 2)\n",
            "Before Augmentation\n",
            "              precision    recall  f1-score   support\n",
            "\n",
            "           0       0.54      0.89      0.68       444\n",
            "           1       0.70      0.25      0.37       444\n",
            "\n",
            "    accuracy                           0.57       888\n",
            "   macro avg       0.62      0.57      0.52       888\n",
            "weighted avg       0.62      0.57      0.52       888\n",
            "\n",
            " \n",
            "After Augmentation size:  4608\n",
            "After Augmentation\n",
            "              precision    recall  f1-score   support\n",
            "\n",
            "           0       0.61      0.64      0.62       444\n",
            "           1       0.62      0.60      0.61       444\n",
            "\n",
            "    accuracy                           0.62       888\n",
            "   macro avg       0.62      0.62      0.62       888\n",
            "weighted avg       0.62      0.62      0.62       888\n",
            "\n",
            "______________________________________________\n",
            "______________________________________________\n",
            "Percentage 40\n",
            "Before Augmentation size:  (3072, 2)\n",
            "Before Augmentation\n",
            "              precision    recall  f1-score   support\n",
            "\n",
            "           0       0.64      0.36      0.46       444\n",
            "           1       0.55      0.80      0.65       444\n",
            "\n",
            "    accuracy                           0.58       888\n",
            "   macro avg       0.60      0.58      0.56       888\n",
            "weighted avg       0.60      0.58      0.56       888\n",
            "\n",
            " \n",
            "After Augmentation size:  6144\n",
            "After Augmentation\n",
            "              precision    recall  f1-score   support\n",
            "\n",
            "           0       0.59      0.69      0.64       444\n",
            "           1       0.63      0.53      0.57       444\n",
            "\n",
            "    accuracy                           0.61       888\n",
            "   macro avg       0.61      0.61      0.61       888\n",
            "weighted avg       0.61      0.61      0.61       888\n",
            "\n",
            "______________________________________________\n",
            "______________________________________________\n",
            "Percentage 50\n",
            "Before Augmentation size:  (3841, 2)\n",
            "Before Augmentation\n",
            "              precision    recall  f1-score   support\n",
            "\n",
            "           0       0.52      0.97      0.68       444\n",
            "           1       0.80      0.11      0.20       444\n",
            "\n",
            "    accuracy                           0.54       888\n",
            "   macro avg       0.66      0.54      0.44       888\n",
            "weighted avg       0.66      0.54      0.44       888\n",
            "\n",
            " \n",
            "After Augmentation size:  7681\n",
            "After Augmentation\n",
            "              precision    recall  f1-score   support\n",
            "\n",
            "           0       0.61      0.57      0.59       444\n",
            "           1       0.60      0.63      0.61       444\n",
            "\n",
            "    accuracy                           0.60       888\n",
            "   macro avg       0.60      0.60      0.60       888\n",
            "weighted avg       0.60      0.60      0.60       888\n",
            "\n",
            "______________________________________________\n",
            "______________________________________________\n",
            "Percentage 60\n",
            "Before Augmentation size:  (4609, 2)\n",
            "Before Augmentation\n",
            "              precision    recall  f1-score   support\n",
            "\n",
            "           0       0.56      0.87      0.68       444\n",
            "           1       0.71      0.32      0.44       444\n",
            "\n",
            "    accuracy                           0.59       888\n",
            "   macro avg       0.63      0.59      0.56       888\n",
            "weighted avg       0.63      0.59      0.56       888\n",
            "\n",
            " \n",
            "After Augmentation size:  9219\n",
            "After Augmentation\n",
            "              precision    recall  f1-score   support\n",
            "\n",
            "           0       0.57      0.84      0.68       444\n",
            "           1       0.70      0.37      0.48       444\n",
            "\n",
            "    accuracy                           0.61       888\n",
            "   macro avg       0.64      0.61      0.58       888\n",
            "weighted avg       0.64      0.61      0.58       888\n",
            "\n",
            "______________________________________________\n",
            "______________________________________________\n",
            "Percentage 70\n",
            "Before Augmentation size:  (5377, 2)\n",
            "Before Augmentation\n",
            "              precision    recall  f1-score   support\n",
            "\n",
            "           0       0.64      0.64      0.64       444\n",
            "           1       0.64      0.64      0.64       444\n",
            "\n",
            "    accuracy                           0.64       888\n",
            "   macro avg       0.64      0.64      0.64       888\n",
            "weighted avg       0.64      0.64      0.64       888\n",
            "\n",
            " \n",
            "After Augmentation size:  10755\n",
            "After Augmentation\n",
            "              precision    recall  f1-score   support\n",
            "\n",
            "           0       0.57      0.85      0.68       444\n",
            "           1       0.70      0.36      0.48       444\n",
            "\n",
            "    accuracy                           0.60       888\n",
            "   macro avg       0.64      0.60      0.58       888\n",
            "weighted avg       0.64      0.60      0.58       888\n",
            "\n",
            "______________________________________________\n",
            "______________________________________________\n",
            "Percentage 80\n",
            "Before Augmentation size:  (6145, 2)\n",
            "Before Augmentation\n",
            "              precision    recall  f1-score   support\n",
            "\n",
            "           0       0.63      0.62      0.62       444\n",
            "           1       0.62      0.64      0.63       444\n",
            "\n",
            "    accuracy                           0.63       888\n",
            "   macro avg       0.63      0.63      0.63       888\n",
            "weighted avg       0.63      0.63      0.63       888\n",
            "\n",
            " \n",
            "After Augmentation size:  12289\n",
            "After Augmentation\n",
            "              precision    recall  f1-score   support\n",
            "\n",
            "           0       0.63      0.58      0.60       444\n",
            "           1       0.61      0.66      0.63       444\n",
            "\n",
            "    accuracy                           0.62       888\n",
            "   macro avg       0.62      0.62      0.62       888\n",
            "weighted avg       0.62      0.62      0.62       888\n",
            "\n",
            "______________________________________________\n",
            "______________________________________________\n",
            "Percentage 90\n",
            "Before Augmentation size:  (6913, 2)\n",
            "Before Augmentation\n",
            "              precision    recall  f1-score   support\n",
            "\n",
            "           0       0.59      0.73      0.65       444\n",
            "           1       0.64      0.50      0.56       444\n",
            "\n",
            "    accuracy                           0.61       888\n",
            "   macro avg       0.62      0.61      0.61       888\n",
            "weighted avg       0.62      0.61      0.61       888\n",
            "\n",
            " \n",
            "After Augmentation size:  13825\n",
            "After Augmentation\n",
            "              precision    recall  f1-score   support\n",
            "\n",
            "           0       0.57      0.89      0.69       444\n",
            "           1       0.75      0.32      0.44       444\n",
            "\n",
            "    accuracy                           0.60       888\n",
            "   macro avg       0.66      0.60      0.57       888\n",
            "weighted avg       0.66      0.60      0.57       888\n",
            "\n",
            "______________________________________________\n",
            "______________________________________________\n",
            "Percentage 100\n",
            "Before Augmentation size:  (7682, 2)\n",
            "Before Augmentation\n",
            "              precision    recall  f1-score   support\n",
            "\n",
            "           0       0.56      0.89      0.69       444\n",
            "           1       0.73      0.30      0.42       444\n",
            "\n",
            "    accuracy                           0.59       888\n",
            "   macro avg       0.64      0.59      0.55       888\n",
            "weighted avg       0.64      0.59      0.55       888\n",
            "\n",
            " \n",
            "After Augmentation size:  15364\n",
            "After Augmentation\n",
            "              precision    recall  f1-score   support\n",
            "\n",
            "           0       0.54      0.94      0.69       444\n",
            "           1       0.77      0.20      0.31       444\n",
            "\n",
            "    accuracy                           0.57       888\n",
            "   macro avg       0.65      0.57      0.50       888\n",
            "weighted avg       0.65      0.57      0.50       888\n",
            "\n",
            "______________________________________________\n"
          ]
        }
      ],
      "source": [
        "#@title Training Loop\n",
        "from sklearn.linear_model import SGDClassifier\n",
        "\n",
        "split_percentage = [10, 20, 30, 40, 50, 60, 70, 80, 90, 100]\n",
        "\n",
        "label = \"Label\"\n",
        "\n",
        "for percentage in split_percentage:\n",
        "    print(\"______________________________________________\")\n",
        "    \n",
        "    print(\"Percentage\",percentage)\n",
        "    \n",
        "    temp_train_df = frac(final_train_df, percentage/100,label)\n",
        "    y_train = temp_train_df.Label\n",
        "    \n",
        "    print(\"Before Augmentation size: \",temp_train_df.shape)\n",
        "    \n",
        "    train_embed = encode_df( temp_train_df,  col=\"Text\")\n",
        "\n",
        "    logreg = SGDClassifier(max_iter=3000,n_jobs=-1)\n",
        "    logreg.fit(train_embed, y_train)\n",
        "    \n",
        "    y_pred = logreg.predict(test_embed)\n",
        "    \n",
        "    r_1 = classification_report(y_test, y_pred)\n",
        "    print(\"Before Augmentation\")\n",
        "    print(r_1)\n",
        "    print(\" \")\n",
        "\n",
        "    # picking out bad samples\n",
        "    incorrect_df = temp_train_df[temp_train_df['Label'] == 0]\n",
        "\n",
        "    #Augmentation\n",
        "\n",
        "    aug_samples = []\n",
        "    for idx, item in incorrect_df.iterrows():\n",
        "      txt = item.Text\n",
        "      lab = item.Label\n",
        "      list_of_augs = aug.type_synonym_sr(txt, token_type = \"NOUN\", n = 2)\n",
        "      \n",
        "      for element in list_of_augs:\n",
        "          aug_samples.append({\"Text\":' '.join(element),\"Label\":lab})\n",
        "\n",
        "    \n",
        "    new_aug_samples = pd.DataFrame(aug_samples)\n",
        "    \n",
        "\n",
        "    \n",
        "    \n",
        "    \n",
        "    new_df = pd.concat([temp_train_df,new_aug_samples],ignore_index=True)\n",
        "    \n",
        "    print(\"After Augmentation size: \",new_df.shape[0])\n",
        "\n",
        "\n",
        "    #augmented train test\n",
        "\n",
        "    #encode\n",
        "    train_embed = encode_df( new_df,  col=\"Text\")\n",
        "    y_train = new_df.Label\n",
        "    \n",
        "    logreg_ = SGDClassifier(max_iter=3000, n_jobs=-1)\n",
        "    logreg_.fit(train_embed, y_train)\n",
        "\n",
        "    y_pred = logreg_.predict(test_embed)\n",
        "\n",
        "\n",
        "    r_2 = classification_report(y_test, y_pred)\n",
        "    print(\"After Augmentation\")\n",
        "    print(r_2)\n",
        "\n",
        "    #save the reports\n",
        "    reports.append((percentage, r_1,r_2))\n",
        "\n",
        "\n",
        "\n",
        "    print(\"______________________________________________\")\n",
        "\n",
        "\n",
        "\n",
        "\n",
        "\n",
        "\n"
      ]
    },
    {
      "cell_type": "code",
      "execution_count": 20,
      "metadata": {
        "id": "9akuWLUTxQOw"
      },
      "outputs": [
        {
          "name": "stdout",
          "output_type": "stream",
          "text": [
            "Collecting sentence-transformers\n",
            "  Downloading sentence_transformers-3.1.1-py3-none-any.whl (245 kB)\n",
            "Requirement already satisfied, skipping upgrade: Pillow in c:\\users\\john nicolas\\downloads\\thesis\\.venv_3.9\\lib\\site-packages (from sentence-transformers) (10.2.0)\n",
            "Requirement already satisfied, skipping upgrade: scipy in c:\\users\\john nicolas\\downloads\\thesis\\.venv_3.9\\lib\\site-packages (from sentence-transformers) (1.10.1)\n",
            "Requirement already satisfied, skipping upgrade: scikit-learn in c:\\users\\john nicolas\\downloads\\thesis\\.venv_3.9\\lib\\site-packages (from sentence-transformers) (1.5.2)\n",
            "Requirement already satisfied, skipping upgrade: tqdm in c:\\users\\john nicolas\\downloads\\thesis\\.venv_3.9\\lib\\site-packages (from sentence-transformers) (4.66.5)\n",
            "Requirement already satisfied, skipping upgrade: huggingface-hub>=0.19.3 in c:\\users\\john nicolas\\downloads\\thesis\\.venv_3.9\\lib\\site-packages (from sentence-transformers) (0.25.1)\n",
            "Requirement already satisfied, skipping upgrade: torch>=1.11.0 in c:\\users\\john nicolas\\downloads\\thesis\\.venv_3.9\\lib\\site-packages (from sentence-transformers) (2.4.1+cu118)\n",
            "Requirement already satisfied, skipping upgrade: transformers<5.0.0,>=4.38.0 in c:\\users\\john nicolas\\downloads\\thesis\\.venv_3.9\\lib\\site-packages (from sentence-transformers) (4.42.3)\n",
            "Requirement already satisfied, skipping upgrade: numpy<1.27.0,>=1.19.5 in c:\\users\\john nicolas\\downloads\\thesis\\.venv_3.9\\lib\\site-packages (from scipy->sentence-transformers) (1.26.4)\n",
            "Requirement already satisfied, skipping upgrade: joblib>=1.2.0 in c:\\users\\john nicolas\\downloads\\thesis\\.venv_3.9\\lib\\site-packages (from scikit-learn->sentence-transformers) (1.4.2)\n",
            "Requirement already satisfied, skipping upgrade: threadpoolctl>=3.1.0 in c:\\users\\john nicolas\\downloads\\thesis\\.venv_3.9\\lib\\site-packages (from scikit-learn->sentence-transformers) (3.5.0)\n",
            "Requirement already satisfied, skipping upgrade: colorama; platform_system == \"Windows\" in c:\\users\\john nicolas\\downloads\\thesis\\.venv_3.9\\lib\\site-packages (from tqdm->sentence-transformers) (0.4.6)\n",
            "Requirement already satisfied, skipping upgrade: typing-extensions>=3.7.4.3 in c:\\users\\john nicolas\\downloads\\thesis\\.venv_3.9\\lib\\site-packages (from huggingface-hub>=0.19.3->sentence-transformers) (4.12.2)\n",
            "Requirement already satisfied, skipping upgrade: fsspec>=2023.5.0 in c:\\users\\john nicolas\\downloads\\thesis\\.venv_3.9\\lib\\site-packages (from huggingface-hub>=0.19.3->sentence-transformers) (2024.6.1)\n",
            "Requirement already satisfied, skipping upgrade: pyyaml>=5.1 in c:\\users\\john nicolas\\downloads\\thesis\\.venv_3.9\\lib\\site-packages (from huggingface-hub>=0.19.3->sentence-transformers) (6.0.2)\n",
            "Requirement already satisfied, skipping upgrade: packaging>=20.9 in c:\\users\\john nicolas\\downloads\\thesis\\.venv_3.9\\lib\\site-packages (from huggingface-hub>=0.19.3->sentence-transformers) (24.1)\n",
            "Requirement already satisfied, skipping upgrade: requests in c:\\users\\john nicolas\\downloads\\thesis\\.venv_3.9\\lib\\site-packages (from huggingface-hub>=0.19.3->sentence-transformers) (2.32.3)\n",
            "Requirement already satisfied, skipping upgrade: filelock in c:\\users\\john nicolas\\downloads\\thesis\\.venv_3.9\\lib\\site-packages (from huggingface-hub>=0.19.3->sentence-transformers) (3.16.1)\n",
            "Requirement already satisfied, skipping upgrade: jinja2 in c:\\users\\john nicolas\\downloads\\thesis\\.venv_3.9\\lib\\site-packages (from torch>=1.11.0->sentence-transformers) (3.1.4)\n",
            "Requirement already satisfied, skipping upgrade: networkx in c:\\users\\john nicolas\\downloads\\thesis\\.venv_3.9\\lib\\site-packages (from torch>=1.11.0->sentence-transformers) (3.2.1)\n",
            "Requirement already satisfied, skipping upgrade: sympy in c:\\users\\john nicolas\\downloads\\thesis\\.venv_3.9\\lib\\site-packages (from torch>=1.11.0->sentence-transformers) (1.13.3)\n",
            "Requirement already satisfied, skipping upgrade: tokenizers<0.20,>=0.19 in c:\\users\\john nicolas\\downloads\\thesis\\.venv_3.9\\lib\\site-packages (from transformers<5.0.0,>=4.38.0->sentence-transformers) (0.19.1)\n",
            "Requirement already satisfied, skipping upgrade: regex!=2019.12.17 in c:\\users\\john nicolas\\downloads\\thesis\\.venv_3.9\\lib\\site-packages (from transformers<5.0.0,>=4.38.0->sentence-transformers) (2024.9.11)\n",
            "Requirement already satisfied, skipping upgrade: safetensors>=0.4.1 in c:\\users\\john nicolas\\downloads\\thesis\\.venv_3.9\\lib\\site-packages (from transformers<5.0.0,>=4.38.0->sentence-transformers) (0.4.5)\n",
            "Requirement already satisfied, skipping upgrade: idna<4,>=2.5 in c:\\users\\john nicolas\\downloads\\thesis\\.venv_3.9\\lib\\site-packages (from requests->huggingface-hub>=0.19.3->sentence-transformers) (3.10)\n",
            "Requirement already satisfied, skipping upgrade: urllib3<3,>=1.21.1 in c:\\users\\john nicolas\\downloads\\thesis\\.venv_3.9\\lib\\site-packages (from requests->huggingface-hub>=0.19.3->sentence-transformers) (2.2.3)\n",
            "Requirement already satisfied, skipping upgrade: certifi>=2017.4.17 in c:\\users\\john nicolas\\downloads\\thesis\\.venv_3.9\\lib\\site-packages (from requests->huggingface-hub>=0.19.3->sentence-transformers) (2024.8.30)\n",
            "Requirement already satisfied, skipping upgrade: charset-normalizer<4,>=2 in c:\\users\\john nicolas\\downloads\\thesis\\.venv_3.9\\lib\\site-packages (from requests->huggingface-hub>=0.19.3->sentence-transformers) (3.3.2)\n",
            "Requirement already satisfied, skipping upgrade: MarkupSafe>=2.0 in c:\\users\\john nicolas\\downloads\\thesis\\.venv_3.9\\lib\\site-packages (from jinja2->torch>=1.11.0->sentence-transformers) (2.1.5)\n",
            "Requirement already satisfied, skipping upgrade: mpmath<1.4,>=1.1.0 in c:\\users\\john nicolas\\downloads\\thesis\\.venv_3.9\\lib\\site-packages (from sympy->torch>=1.11.0->sentence-transformers) (1.3.0)\n",
            "Installing collected packages: sentence-transformers\n",
            "Successfully installed sentence-transformers-3.1.1\n"
          ]
        },
        {
          "name": "stderr",
          "output_type": "stream",
          "text": [
            "WARNING: You are using pip version 20.2.3; however, version 24.2 is available.\n",
            "You should consider upgrading via the 'c:\\users\\john nicolas\\downloads\\thesis\\.venv_3.9\\scripts\\python.exe -m pip install --upgrade pip' command.\n"
          ]
        },
        {
          "data": {
            "application/vnd.jupyter.widget-view+json": {
              "model_id": "148e556cad33482f9ef3512f80de6a32",
              "version_major": 2,
              "version_minor": 0
            },
            "text/plain": [
              "config.json:   0%|          | 0.00/718 [00:00<?, ?B/s]"
            ]
          },
          "metadata": {},
          "output_type": "display_data"
        },
        {
          "name": "stderr",
          "output_type": "stream",
          "text": [
            "c:\\Users\\John Nicolas\\Downloads\\Thesis\\.venv_3.9\\lib\\site-packages\\huggingface_hub\\file_download.py:147: UserWarning: `huggingface_hub` cache-system uses symlinks by default to efficiently store duplicated files but your machine does not support them in C:\\Users\\John Nicolas\\.cache\\huggingface\\hub\\models--sentence-transformers--paraphrase-xlm-r-multilingual-v1. Caching files will still work but in a degraded version that might require more space on your disk. This warning can be disabled by setting the `HF_HUB_DISABLE_SYMLINKS_WARNING` environment variable. For more details, see https://huggingface.co/docs/huggingface_hub/how-to-cache#limitations.\n",
            "To support symlinks on Windows, you either need to activate Developer Mode or to run Python as an administrator. In order to activate developer mode, see this article: https://docs.microsoft.com/en-us/windows/apps/get-started/enable-your-device-for-development\n",
            "  warnings.warn(message)\n"
          ]
        },
        {
          "data": {
            "application/vnd.jupyter.widget-view+json": {
              "model_id": "83b5596502264a9c958f292e07c24a71",
              "version_major": 2,
              "version_minor": 0
            },
            "text/plain": [
              "model.safetensors:   0%|          | 0.00/1.11G [00:00<?, ?B/s]"
            ]
          },
          "metadata": {},
          "output_type": "display_data"
        },
        {
          "data": {
            "application/vnd.jupyter.widget-view+json": {
              "model_id": "23fd4bb8c0a74d3bbcc2c470caceddd2",
              "version_major": 2,
              "version_minor": 0
            },
            "text/plain": [
              "tokenizer_config.json:   0%|          | 0.00/550 [00:00<?, ?B/s]"
            ]
          },
          "metadata": {},
          "output_type": "display_data"
        },
        {
          "data": {
            "application/vnd.jupyter.widget-view+json": {
              "model_id": "f4560c966bff41ddbce302f65cbfb273",
              "version_major": 2,
              "version_minor": 0
            },
            "text/plain": [
              "sentencepiece.bpe.model:   0%|          | 0.00/5.07M [00:00<?, ?B/s]"
            ]
          },
          "metadata": {},
          "output_type": "display_data"
        },
        {
          "data": {
            "application/vnd.jupyter.widget-view+json": {
              "model_id": "122a8f5a7e504f1fa778804f2834494b",
              "version_major": 2,
              "version_minor": 0
            },
            "text/plain": [
              "tokenizer.json:   0%|          | 0.00/9.10M [00:00<?, ?B/s]"
            ]
          },
          "metadata": {},
          "output_type": "display_data"
        },
        {
          "data": {
            "application/vnd.jupyter.widget-view+json": {
              "model_id": "1c6a01f637db471286c9ab3a8481ca0a",
              "version_major": 2,
              "version_minor": 0
            },
            "text/plain": [
              "special_tokens_map.json:   0%|          | 0.00/150 [00:00<?, ?B/s]"
            ]
          },
          "metadata": {},
          "output_type": "display_data"
        }
      ],
      "source": [
        "\n",
        "!pip install -U sentence-transformers\n",
        "from sentence_transformers import SentenceTransformer, models\n",
        "\n",
        "#model_dir = 'Peltarion/xlm-roberta-longformer-base-4096'\n",
        "#mod = \"KB/bert-base-swedish-cased\"\n",
        "sen_xlmr = \"sentence-transformers/paraphrase-xlm-r-multilingual-v1\"\n",
        "\n",
        "word_embedding_model = models.Transformer(sen_xlmr, tokenizer_name_or_path= sen_xlmr , max_seq_length=512)\n",
        "pooling_model = models.Pooling(word_embedding_model.get_word_embedding_dimension())\n",
        "\n",
        "model = SentenceTransformer(modules=[word_embedding_model, pooling_model])"
      ]
    },
    {
      "cell_type": "code",
      "execution_count": 21,
      "metadata": {
        "id": "gwsA7fUxc-D1"
      },
      "outputs": [],
      "source": [
        "    # picking out bad samples\n",
        "incorrect_df = final_train_df[final_train_df['Label'] == 0]\n",
        "\n",
        "    #Augmentation\n",
        "\n",
        "aug_samples = []\n",
        "original_augmented = [] #every element : orginal_text, (Tuple of augmented sentences)\n",
        "for idx, item in incorrect_df.iterrows():\n",
        "      txt = item.Text\n",
        "      lab = item.Label\n",
        "      list_of_augs = aug.type_synonym_sr(txt, token_type = \"NOUN\", n = 2)\n",
        "      \n",
        "      temp_list = []\n",
        "      for element in list_of_augs:\n",
        "            aug_samples.append({\"Text\":' '.join(element),\"Label\":lab})\n",
        "            temp_list.append(' '.join(element))\n",
        "      \n",
        "      original_augmented.append((txt,temp_list))\n",
        "\n",
        "    \n",
        "\n",
        "new_aug_samples = pd.DataFrame(aug_samples)"
      ]
    },
    {
      "cell_type": "code",
      "execution_count": 22,
      "metadata": {
        "id": "bRQKDOMPxJ7Y"
      },
      "outputs": [],
      "source": [
        "from sentence_transformers import SentenceTransformer, util\n",
        "\n",
        "\n",
        "def checkSimilarity(reference_string, list_of_strings, model):\n",
        "    \"\"\"\n",
        "    This function takes a reference string and a list of strings and returns a list of strings that are similar to the reference string.\n",
        "\n",
        "    :param reference_string:\n",
        "    :param list_of_strings:\n",
        "    :param model: sentence transformer model\n",
        "    :return:\n",
        "    \"\"\"\n",
        "    #1. Encode using Sentence Transformer\n",
        "    #2. Calculate cosine similarity\n",
        "    #3. Append the similirty value to the list\n",
        "    # caclulcate percentage of elements below 0.9\n",
        "    # return the list, and the percentage of elements below 0.9\n",
        "\n",
        "    reference_encoded = model.encode(reference_string,convert_to_numpy=True) #encoded reference string\n",
        "    list_of_cosine_similarity = []\n",
        "    for string in list_of_strings:\n",
        "        #print(string)\n",
        "        encoded_string = model.encode(string,convert_to_numpy=True)\n",
        "\n",
        "        #find coside similairity of enocded String and reference string\n",
        "        similarity = util.cos_sim(reference_encoded, encoded_string)\n",
        "        list_of_cosine_similarity.append(similarity.item())\n",
        "    #print(list_of_cosine_similarity)\n",
        "    #sum(i > 5 for i in j)\n",
        "    percentage_of_elements_below_0_9 = sum(i < 0.9 for i in list_of_cosine_similarity) / len(list_of_cosine_similarity)\n",
        "\n",
        "    return sum(i < 0.95 for i in list_of_cosine_similarity),percentage_of_elements_below_0_9"
      ]
    },
    {
      "cell_type": "code",
      "execution_count": 23,
      "metadata": {
        "id": "fCnYlgH62Cq9"
      },
      "outputs": [],
      "source": [
        "low_semantic_sentences = []\n",
        "for item in original_augmented:\n",
        "  num, percentage = checkSimilarity(item[0],item[1],model)\n",
        "  low_semantic_sentences.append(num)"
      ]
    },
    {
      "cell_type": "code",
      "execution_count": 24,
      "metadata": {
        "colab": {
          "base_uri": "https://localhost:8080/"
        },
        "id": "lhUhqsjL4Ufe",
        "outputId": "2c2722b1-22d4-4484-c209-95d873d2daf9"
      },
      "outputs": [
        {
          "name": "stdout",
          "output_type": "stream",
          "text": [
            "Original Sentences: 3841\n",
            "Num of Augmented Sentences: 7682\n"
          ]
        }
      ],
      "source": [
        "print(\"Original Sentences:\",len(original_augmented))\n",
        "print(\"Num of Augmented Sentences:\",len(original_augmented)*2)\n"
      ]
    },
    {
      "cell_type": "code",
      "execution_count": 25,
      "metadata": {
        "colab": {
          "base_uri": "https://localhost:8080/"
        },
        "id": "mzn0rs1z5yjZ",
        "outputId": "9cafca69-4b6f-47bc-d2e2-5aca5f33e8b2"
      },
      "outputs": [
        {
          "name": "stdout",
          "output_type": "stream",
          "text": [
            "Num of Bad Augmented Sentences: 2780\n"
          ]
        }
      ],
      "source": [
        "print(\"Num of Bad Augmented Sentences:\",sum(low_semantic_sentences))\n"
      ]
    },
    {
      "cell_type": "code",
      "execution_count": 26,
      "metadata": {
        "colab": {
          "base_uri": "https://localhost:8080/"
        },
        "id": "TlioqFao68Ir",
        "outputId": "57ef47c4-8b59-4b71-c6a8-5ecb6d35ed3f"
      },
      "outputs": [
        {
          "name": "stdout",
          "output_type": "stream",
          "text": [
            "Percentage of Bad Augmented Sentences: 36.18849258005727\n"
          ]
        }
      ],
      "source": [
        "num_of_aug_samples = len(original_augmented)*2\n",
        "print(\"Percentage of Bad Augmented Sentences:\",(sum(low_semantic_sentences)/num_of_aug_samples)*100)"
      ]
    }
  ],
  "metadata": {
    "accelerator": "GPU",
    "colab": {
      "authorship_tag": "ABX9TyMR+5rF1P4fbAqNkJG2Gnot",
      "collapsed_sections": [],
      "mount_file_id": "1uipmJSZ1bfmh-ovt5KIQ0X-tqFJ-rgNq",
      "provenance": []
    },
    "kernelspec": {
      "display_name": ".venv_3.9",
      "language": "python",
      "name": "python3"
    },
    "language_info": {
      "codemirror_mode": {
        "name": "ipython",
        "version": 3
      },
      "file_extension": ".py",
      "mimetype": "text/x-python",
      "name": "python",
      "nbconvert_exporter": "python",
      "pygments_lexer": "ipython3",
      "version": "3.9.0"
    }
  },
  "nbformat": 4,
  "nbformat_minor": 0
}
