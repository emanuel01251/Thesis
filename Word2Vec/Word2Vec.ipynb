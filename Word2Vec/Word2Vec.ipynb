{
  "cells": [
    {
      "cell_type": "markdown",
      "metadata": {
        "id": "WfuNqI_TJihu"
      },
      "source": [
        "\n",
        "\n",
        "# Word2Vec Tutorial"
      ]
    },
    {
      "cell_type": "code",
      "execution_count": 1,
      "metadata": {
        "id": "aQH0x-7cJvKQ"
      },
      "outputs": [],
      "source": [
        "import numpy as np\n",
        "import matplotlib.pyplot as plt\n",
        "import pandas as pd"
      ]
    },
    {
      "cell_type": "markdown",
      "metadata": {
        "id": "uq0ZOCg2Job0"
      },
      "source": [
        "## Importing the Dataset + Text Preprocessing"
      ]
    },
    {
      "cell_type": "code",
      "execution_count": 30,
      "metadata": {
        "id": "P4vikPdgJtv0"
      },
      "outputs": [],
      "source": [
        "dataset = pd.read_csv('sample_text.csv')"
      ]
    },
    {
      "cell_type": "markdown",
      "metadata": {
        "id": "tzxNFBBfafeS"
      },
      "source": [
        "Very basic text preproccessing by removing punctuations, numbers. We have also cleaned the data by removing characters including and after 'https' in the text."
      ]
    },
    {
      "cell_type": "code",
      "execution_count": 31,
      "metadata": {
        "id": "4TAhx3inJ_O4"
      },
      "outputs": [],
      "source": [
        "import re\n",
        "texts=[]\n",
        "for i in range(0,len(dataset)):\n",
        "  text = text.lower()\n",
        "  text = text.split()\n",
        "  x = len(text) if text.count('https') ==0  else text.index('https')\n",
        "  text = text[: x ]\n",
        "  text = [t for t in text if not t=='https']\n",
        "  text = ' '.join(text)\n",
        "  texts.append(text)\n"
      ]
    },
    {
      "cell_type": "markdown",
      "metadata": {
        "id": "xkrW9cctbFU6"
      },
      "source": [
        "Size of the dataset."
      ]
    },
    {
      "cell_type": "code",
      "execution_count": 32,
      "metadata": {
        "colab": {
          "base_uri": "https://localhost:8080/"
        },
        "id": "VY91SigRK_-z",
        "outputId": "54b387c5-0c70-4f10-d407-c284c7c7478b"
      },
      "outputs": [
        {
          "name": "stdout",
          "output_type": "stream",
          "text": [
            "['this sample text is public domain and was randomly selected from project guttenberg', 'this sample text is public domain and was randomly selected from project guttenberg', 'this sample text is public domain and was randomly selected from project guttenberg', 'this sample text is public domain and was randomly selected from project guttenberg', 'this sample text is public domain and was randomly selected from project guttenberg', 'this sample text is public domain and was randomly selected from project guttenberg', 'this sample text is public domain and was randomly selected from project guttenberg', 'this sample text is public domain and was randomly selected from project guttenberg', 'this sample text is public domain and was randomly selected from project guttenberg', 'this sample text is public domain and was randomly selected from project guttenberg', 'this sample text is public domain and was randomly selected from project guttenberg', 'this sample text is public domain and was randomly selected from project guttenberg', 'this sample text is public domain and was randomly selected from project guttenberg', 'this sample text is public domain and was randomly selected from project guttenberg', 'this sample text is public domain and was randomly selected from project guttenberg', 'this sample text is public domain and was randomly selected from project guttenberg', 'this sample text is public domain and was randomly selected from project guttenberg', 'this sample text is public domain and was randomly selected from project guttenberg', 'this sample text is public domain and was randomly selected from project guttenberg', 'this sample text is public domain and was randomly selected from project guttenberg', 'this sample text is public domain and was randomly selected from project guttenberg', 'this sample text is public domain and was randomly selected from project guttenberg', 'this sample text is public domain and was randomly selected from project guttenberg', 'this sample text is public domain and was randomly selected from project guttenberg', 'this sample text is public domain and was randomly selected from project guttenberg']\n"
          ]
        }
      ],
      "source": [
        "print(texts[0:25])"
      ]
    },
    {
      "cell_type": "markdown",
      "metadata": {
        "id": "-UpeRPOtbRA4"
      },
      "source": [
        "## Training the word2vec model"
      ]
    },
    {
      "cell_type": "code",
      "execution_count": 33,
      "metadata": {
        "id": "x6G_EOnzLrNr"
      },
      "outputs": [],
      "source": [
        "from gensim.models import Word2Vec\n"
      ]
    },
    {
      "cell_type": "code",
      "execution_count": 34,
      "metadata": {
        "id": "TOEQj-VlLsEG"
      },
      "outputs": [
        {
          "name": "stderr",
          "output_type": "stream",
          "text": [
            "c:\\Users\\Eman\\Downloads\\Thesis\\.venv_3.9\\lib\\site-packages\\gensim\\models\\base_any2vec.py:742: UserWarning: C extension not loaded, training will be slow. Install a C compiler and reinstall gensim for fast training.\n",
            "  warnings.warn(\n"
          ]
        }
      ],
      "source": [
        "sentences = [line.split() for line in texts]\n",
        "\n",
        "w2v =Word2Vec(sentences, size=100, window=5, workers=4, iter=2, min_count=5)\n",
        "#if theres an error about vocabulary: https://stackoverflow.com/questions/33989826/python-gensim-runtimeerror-you-must-first-build-vocabulary-before-training-th"
      ]
    },
    {
      "cell_type": "code",
      "execution_count": 8,
      "metadata": {
        "colab": {
          "base_uri": "https://localhost:8080/"
        },
        "id": "yBEn_UrmxdaW",
        "outputId": "22d00d68-6b3d-46f3-97da-a4c61792a861"
      },
      "outputs": [
        {
          "name": "stdout",
          "output_type": "stream",
          "text": [
            "[]\n"
          ]
        }
      ],
      "source": [
        "print(sentences[20:25])"
      ]
    },
    {
      "cell_type": "markdown",
      "metadata": {
        "id": "5RLH55l3bo2U"
      },
      "source": [
        "## Working with word2vec"
      ]
    },
    {
      "cell_type": "markdown",
      "metadata": {
        "id": "dJMH7c2DbxaT"
      },
      "source": [
        "Finding the vocabulary of the model can be useful in several general applications, and in this case, provides us with a list of words we can try and use other functions."
      ]
    },
    {
      "cell_type": "code",
      "execution_count": 35,
      "metadata": {
        "id": "Hh3yF2HgMeyq"
      },
      "outputs": [],
      "source": [
        "words = list(w2v.wv.vocab)\n"
      ]
    },
    {
      "cell_type": "code",
      "execution_count": 36,
      "metadata": {
        "colab": {
          "base_uri": "https://localhost:8080/"
        },
        "id": "eYGG6ySCMir4",
        "outputId": "4863e7dc-5168-4263-d03b-d9007b158619"
      },
      "outputs": [
        {
          "name": "stdout",
          "output_type": "stream",
          "text": [
            "['this', 'sample', 'text', 'is', 'public', 'domain', 'and', 'was', 'randomly', 'selected', 'from', 'project', 'guttenberg']\n"
          ]
        }
      ],
      "source": [
        "print(words)"
      ]
    },
    {
      "cell_type": "code",
      "execution_count": 37,
      "metadata": {
        "colab": {
          "base_uri": "https://localhost:8080/"
        },
        "id": "ShNxt4qfYuNk",
        "outputId": "63749a5d-6713-42c1-fd70-7429de21a20d"
      },
      "outputs": [
        {
          "name": "stdout",
          "output_type": "stream",
          "text": [
            "13\n"
          ]
        }
      ],
      "source": [
        "print(len(words))"
      ]
    },
    {
      "cell_type": "markdown",
      "metadata": {
        "id": "BM809WQbb3Qb"
      },
      "source": [
        "Finding the embedding of a given word can be useful when we’re trying to represent sentences as a collection of word embeddings, like when we’re trying to make a weight matrix for the embedding layer of a network."
      ]
    },
    {
      "cell_type": "code",
      "execution_count": 39,
      "metadata": {
        "colab": {
          "base_uri": "https://localhost:8080/"
        },
        "id": "hyHInX6agJO2",
        "outputId": "1c30f9e3-a9d2-4a8b-9a33-13e5e557129a"
      },
      "outputs": [
        {
          "name": "stdout",
          "output_type": "stream",
          "text": [
            "[-2.7267481e-03 -2.7096448e-03 -4.0215775e-03 -1.0354087e-03\n",
            "  1.6878695e-03 -3.8628576e-03  4.0569659e-03 -7.1653625e-04\n",
            "  7.8258238e-04 -4.4962708e-03  3.7292137e-03  2.9196530e-03\n",
            " -2.1524877e-04  2.4553873e-03  9.1229012e-05 -2.5795547e-03\n",
            " -2.3791376e-04  4.3256446e-03 -3.9875861e-03  5.7135615e-04\n",
            " -2.4425942e-03 -1.7566215e-03  4.0789312e-03  1.0384138e-03\n",
            "  3.0311998e-03 -1.7776410e-03  2.5884109e-03  2.3668143e-03\n",
            "  1.2090573e-03 -1.2235329e-03 -2.6864600e-05  4.3616691e-03\n",
            " -2.6362219e-03  3.3093940e-03 -5.0202227e-04  3.6344964e-03\n",
            " -3.3003266e-03  3.1863642e-03 -2.6015311e-03  1.8774047e-03\n",
            " -1.4183875e-03  3.0739340e-03 -4.0136529e-03 -2.4237772e-03\n",
            "  2.5895520e-03  1.6865656e-03  4.1088238e-03  1.1462407e-03\n",
            " -8.1147434e-04 -3.3661569e-03 -8.5715402e-04 -1.5024982e-03\n",
            "  9.7875914e-04 -1.4340808e-03 -2.2830109e-03  9.5504022e-04\n",
            " -4.0788339e-03 -1.3375130e-03  3.6355907e-03  3.4095859e-03\n",
            " -3.4901984e-03  2.5433120e-03  3.2287161e-03  2.7147748e-03\n",
            "  2.9235918e-03  4.0271850e-03  5.4070598e-04 -2.6906547e-03\n",
            " -2.7809518e-03  2.3057226e-03 -4.7651432e-03  1.9156671e-03\n",
            " -5.2173372e-04 -4.6344511e-03  3.6833836e-03 -2.9468078e-03\n",
            " -2.2321136e-03  2.9934586e-03 -4.3870597e-03 -1.9431825e-03\n",
            "  6.2331755e-04 -1.4342779e-03 -2.5765167e-03  4.7817309e-03\n",
            "  6.0867716e-04 -2.8155355e-03  7.6097064e-04  6.2726077e-04\n",
            "  1.0553761e-03 -7.7940075e-04 -3.1392758e-03 -1.0190497e-03\n",
            "  9.7633916e-04  3.6250327e-03 -5.0313552e-03 -2.0851109e-03\n",
            " -2.8862059e-03  1.6844154e-03  4.0824059e-03  4.7217607e-03]\n"
          ]
        }
      ],
      "source": [
        "print( w2v.wv['this'] )"
      ]
    },
    {
      "cell_type": "markdown",
      "metadata": {
        "id": "AO2SKrUqcQiY"
      },
      "source": [
        "We can also find out the similarity between given words (the cosine distance between their vectors)."
      ]
    },
    {
      "cell_type": "code",
      "execution_count": 42,
      "metadata": {
        "colab": {
          "base_uri": "https://localhost:8080/"
        },
        "id": "JEpYSU0UskQE",
        "outputId": "af9a8cd1-351a-46a9-fbba-52afff9c10a3"
      },
      "outputs": [
        {
          "data": {
            "text/plain": [
              "0.029529706"
            ]
          },
          "execution_count": 42,
          "metadata": {},
          "output_type": "execute_result"
        }
      ],
      "source": [
        "w2v.wv.similarity('randomly', 'selected')"
      ]
    },
    {
      "cell_type": "code",
      "execution_count": null,
      "metadata": {
        "colab": {
          "base_uri": "https://localhost:8080/"
        },
        "id": "nmDQim-TswgY",
        "outputId": "f14c0c64-18fa-4cab-ca06-8a8b78139d1d"
      },
      "outputs": [
        {
          "data": {
            "text/plain": [
              "0.6622772"
            ]
          },
          "execution_count": 13,
          "metadata": {},
          "output_type": "execute_result"
        }
      ],
      "source": [
        "w2v.wv.similarity('vladimir', 'modi')"
      ]
    },
    {
      "cell_type": "markdown",
      "metadata": {
        "id": "k7DftVIvca5Q"
      },
      "source": [
        "With the gensim, we can also find the most similar words to a given word."
      ]
    },
    {
      "cell_type": "code",
      "execution_count": null,
      "metadata": {
        "colab": {
          "base_uri": "https://localhost:8080/"
        },
        "id": "MVNGUQbtf2ub",
        "outputId": "d5954546-653c-4436-f532-bf23c0d36cf5"
      },
      "outputs": [
        {
          "name": "stdout",
          "output_type": "stream",
          "text": [
            "[('paying', 0.7022949457168579), ('paid', 0.686174213886261), ('wages', 0.6507245898246765), ('bills', 0.6483527421951294), ('receive', 0.6030805110931396), ('leave', 0.6017082333564758), ('raise', 0.5998932123184204), ('rent', 0.594900369644165), ('wage', 0.569133996963501), ('benefits', 0.5625671148300171)]\n"
          ]
        }
      ],
      "source": [
        "print(w2v.wv.most_similar('pay'))"
      ]
    },
    {
      "cell_type": "code",
      "execution_count": null,
      "metadata": {
        "colab": {
          "base_uri": "https://localhost:8080/"
        },
        "id": "g_gJak11cvSU",
        "outputId": "62019d5a-1276-40c7-8bd9-1b5957fd4ad1"
      },
      "outputs": [
        {
          "name": "stdout",
          "output_type": "stream",
          "text": [
            "[('coronavirus', 0.6034492254257202), ('virus', 0.5288746953010559), ('corona', 0.5067222118377686), ('disease', 0.47963017225265503), ('coronacrisis', 0.4596719741821289), ('epidemic', 0.4517126977443695), ('coronavirusindia', 0.45097070932388306), ('flattenthecurve', 0.4467395842075348), ('coronaviruschallenge', 0.44602638483047485), ('corvid', 0.44361186027526855)]\n"
          ]
        }
      ],
      "source": [
        "print(w2v.wv.most_similar('covid'))"
      ]
    },
    {
      "cell_type": "code",
      "execution_count": null,
      "metadata": {
        "colab": {
          "base_uri": "https://localhost:8080/"
        },
        "id": "RbX2SQUMcxQ6",
        "outputId": "6ecfb397-39d8-483f-c624-44f0b66726a3"
      },
      "outputs": [
        {
          "name": "stdout",
          "output_type": "stream",
          "text": [
            "[('nigeria', 0.7527592182159424), ('pakistan', 0.7506697177886963), ('kenya', 0.6827074885368347), ('amitshah', 0.6763262748718262), ('odisha', 0.6750248670578003), ('iran', 0.6640534400939941), ('drharshvardhan', 0.6618179082870483), ('irvpaswan', 0.6575825214385986), ('kuwait', 0.6487914323806763), ('pmoindia', 0.6474971175193787)]\n"
          ]
        }
      ],
      "source": [
        "print(w2v.wv.most_similar('india'))"
      ]
    },
    {
      "cell_type": "markdown",
      "metadata": {
        "id": "GB4pamDxcfiZ"
      },
      "source": [
        "Similarly, we can use the same function to find analogies of the form: if x:y, then z:?. Here we enter the known relation x,y in the positive parameter, and the term who’s analogy has to be found in the negative parameter."
      ]
    },
    {
      "cell_type": "code",
      "execution_count": null,
      "metadata": {
        "colab": {
          "base_uri": "https://localhost:8080/"
        },
        "id": "hF7gMd3mpwls",
        "outputId": "c5c3d132-1be5-4310-b956-02a4dcdf84d6"
      },
      "outputs": [
        {
          "name": "stdout",
          "output_type": "stream",
          "text": [
            "[('saudi', 0.7981306314468384), ('arabia', 0.773565411567688), ('putin', 0.7352633476257324), ('opec', 0.7199183702468872), ('trump', 0.7061201333999634), ('iran', 0.6621144413948059), ('saudis', 0.635714590549469), ('war', 0.622955322265625), ('donald', 0.6209783554077148), ('mbs', 0.6009782552719116)]\n"
          ]
        }
      ],
      "source": [
        "print(w2v.wv.most_similar(positive=['russian', 'russia'], negative=['arab']))"
      ]
    },
    {
      "cell_type": "markdown",
      "metadata": {
        "id": "oTQSJlPmiQ8E"
      },
      "source": [
        "We also have this method which works similar to an \"odd one out\" situation."
      ]
    },
    {
      "cell_type": "code",
      "execution_count": null,
      "metadata": {
        "colab": {
          "base_uri": "https://localhost:8080/",
          "height": 91
        },
        "id": "hlOpVQ1wV2hp",
        "outputId": "7e64373e-6d79-4ed5-8ccb-bafccd844b3d"
      },
      "outputs": [
        {
          "name": "stderr",
          "output_type": "stream",
          "text": [
            "/usr/local/lib/python3.7/dist-packages/gensim/models/keyedvectors.py:895: FutureWarning: arrays to stack must be passed as a \"sequence\" type such as list or tuple. Support for non-sequence iterables such as generators is deprecated as of NumPy 1.16 and will raise an error in the future.\n",
            "  vectors = vstack(self.word_vec(word, use_norm=True) for word in used_words).astype(REAL)\n"
          ]
        },
        {
          "data": {
            "application/vnd.google.colaboratory.intrinsic+json": {
              "type": "string"
            },
            "text/plain": [
              "'grocery'"
            ]
          },
          "execution_count": 18,
          "metadata": {},
          "output_type": "execute_result"
        }
      ],
      "source": [
        "w2v.wv.doesnt_match(['grocery', 'covid', 'coronavirus'])\n"
      ]
    },
    {
      "cell_type": "markdown",
      "metadata": {
        "id": "uAI1BtondhOM"
      },
      "source": [
        "## Visualising word vectors"
      ]
    },
    {
      "cell_type": "markdown",
      "metadata": {
        "id": "ah3KK1ABc8YZ"
      },
      "source": [
        "Word2Vec word embedding can usually be of sizes 100 or 300, and it is practically not possible to visualise a 300 or 100 dimensional space with meaningful outputs. I used this [snippet](http://web.stanford.edu/class/cs224n/materials/Gensim%20word%20vector%20visualization.html) from [Stanford’s 224n course site](http://web.stanford.edu/class/cs224n/index.html#schedule), which basically provides you the option of either using a list of words, or providing the number of random samples you want to be displayed. In either case, it uses PCA to reduce the dimensionality and represent the word through their vectors on a 2-dimensional plane. The actual values of the axis are not of concern as they do not hold any significance, rather we can use it to perceive similar vectors to be densely located with respect to each other.\n"
      ]
    },
    {
      "cell_type": "code",
      "execution_count": null,
      "metadata": {
        "id": "0QLtf1sXVBdK"
      },
      "outputs": [],
      "source": [
        "from sklearn.decomposition import PCA\n",
        "from sklearn.manifold import TSNE\n",
        "\n",
        "def display_pca_scatterplot(model, words=None, sample=0):\n",
        "    if words == None:\n",
        "        if sample > 0:\n",
        "            words = np.random.choice(list(model.vocab.keys()), sample)\n",
        "        else:\n",
        "            words = [ word for word in model.vocab ]\n",
        "\n",
        "    word_vectors = np.array([model[w] for w in words])\n",
        "\n",
        "    twodim = PCA().fit_transform(word_vectors)[:,:2]\n",
        "\n",
        "    plt.figure(figsize=(6,6))\n",
        "    plt.scatter(twodim[:,0], twodim[:,1], edgecolors='k', c='r')\n",
        "    for word, (x,y) in zip(words, twodim):\n",
        "        plt.text(x+0.05, y+0.05, word)"
      ]
    },
    {
      "cell_type": "code",
      "execution_count": null,
      "metadata": {
        "colab": {
          "base_uri": "https://localhost:8080/",
          "height": 408
        },
        "id": "-chXmtjNVNbz",
        "outputId": "21044141-a984-4d77-ade1-d782c2c6da96"
      },
      "outputs": [
        {
          "name": "stderr",
          "output_type": "stream",
          "text": [
            "/usr/local/lib/python3.7/dist-packages/ipykernel_launcher.py:11: DeprecationWarning: Call to deprecated `__getitem__` (Method will be removed in 4.0.0, use self.wv.__getitem__() instead).\n",
            "  # This is added back by InteractiveShellApp.init_path()\n"
          ]
        },
        {
          "data": {
            "image/png": "[encoded data removed]",
            "text/plain": [
              "<Figure size 432x432 with 1 Axes>"
            ]
          },
          "metadata": {
            "needs_background": "light"
          },
          "output_type": "display_data"
        }
      ],
      "source": [
        "display_pca_scatterplot(w2v,['coronavirus', 'covid', 'virus', 'corona','disease', 'saudiarabia',  'doctor', 'hospital', 'pakistan', 'kenya',\n",
        "                             'pay', 'paying', 'paid', 'wages', 'raise', 'bills', 'rent', 'charge']  )"
      ]
    },
    {
      "cell_type": "markdown",
      "metadata": {
        "id": "nI3E1N_BcrHp"
      },
      "source": [
        "## Exporting pre trained embeddings + Saving/Loading our model"
      ]
    },
    {
      "cell_type": "markdown",
      "metadata": {
        "id": "LeFWtrS_jh99"
      },
      "source": [
        "Gensim comes with several already pre-trained models, in the Gensim-data repository. We can import the downloader from the gensim library. We can use the following method to print the list of pre-trained models trained on large datasets available to us. This also  includes models like GloVe and fastext other than word2vec.\n",
        "\n"
      ]
    },
    {
      "cell_type": "code",
      "execution_count": null,
      "metadata": {
        "colab": {
          "base_uri": "https://localhost:8080/"
        },
        "id": "jeQ6sNXdnjgZ",
        "outputId": "f44457d1-db7d-4a0b-a27a-479651193d58"
      },
      "outputs": [
        {
          "name": "stdout",
          "output_type": "stream",
          "text": [
            "['fasttext-wiki-news-subwords-300', 'conceptnet-numberbatch-17-06-300', 'word2vec-ruscorpora-300', 'word2vec-google-news-300', 'glove-wiki-gigaword-50', 'glove-wiki-gigaword-100', 'glove-wiki-gigaword-200', 'glove-wiki-gigaword-300', 'glove-twitter-25', 'glove-twitter-50', 'glove-twitter-100', 'glove-twitter-200', '__testing_word2vec-matrix-synopsis']\n"
          ]
        }
      ],
      "source": [
        "import gensim.downloader\n",
        "print(list(gensim.downloader.info()['models'].keys()))\n"
      ]
    },
    {
      "cell_type": "markdown",
      "metadata": {
        "id": "8a10LjhUjmYl"
      },
      "source": [
        "Here we have used  'word2vec-google-news-300' (trained on google-news, size is 300), and found words similar to ‘twitter’."
      ]
    },
    {
      "cell_type": "code",
      "execution_count": null,
      "metadata": {
        "colab": {
          "base_uri": "https://localhost:8080/"
        },
        "id": "7kjdQXzgdzQs",
        "outputId": "d129a82c-3f63-48df-ae6d-d80766c97323"
      },
      "outputs": [
        {
          "name": "stdout",
          "output_type": "stream",
          "text": [
            "[==================================================] 100.0% 1662.8/1662.8MB downloaded\n"
          ]
        },
        {
          "data": {
            "text/plain": [
              "[('Twitter', 0.89089035987854),\n",
              " ('Twitter.com', 0.7536780834197998),\n",
              " ('tweet', 0.7431625723838806),\n",
              " ('tweeting', 0.7161933183670044),\n",
              " ('tweeted', 0.7137226462364197),\n",
              " ('facebook', 0.6988551616668701),\n",
              " ('tweets', 0.6974530816078186),\n",
              " ('Tweeted', 0.6950210928916931),\n",
              " ('Tweet', 0.6875007152557373),\n",
              " ('Tweeting', 0.6845167279243469)]"
            ]
          },
          "execution_count": 3,
          "metadata": {},
          "output_type": "execute_result"
        }
      ],
      "source": [
        "google_news = gensim.downloader.load('word2vec-google-news-300')\n",
        "google_news.most_similar('twitter')"
      ]
    },
    {
      "cell_type": "markdown",
      "metadata": {
        "id": "d-l6c2JHjqBl"
      },
      "source": [
        "We can save our existing models and load them again.\n"
      ]
    },
    {
      "cell_type": "code",
      "execution_count": null,
      "metadata": {
        "id": "QJ5YKbhssWip"
      },
      "outputs": [],
      "source": [
        "w2v.save(\"word2vec.model\")"
      ]
    },
    {
      "cell_type": "code",
      "execution_count": null,
      "metadata": {
        "colab": {
          "base_uri": "https://localhost:8080/"
        },
        "id": "o6O0oa3DeR2Q",
        "outputId": "89b104c1-6516-48bd-dc79-8e3eed838b7d"
      },
      "outputs": [
        {
          "data": {
            "text/plain": [
              "(2, 2)"
            ]
          },
          "execution_count": 10,
          "metadata": {},
          "output_type": "execute_result"
        }
      ],
      "source": [
        "model = Word2Vec.load(\"word2vec.model\")\n",
        "model.train([[\"hello\", \"world\"]], total_examples=1, epochs=1)\n"
      ]
    }
  ],
  "metadata": {
    "accelerator": "GPU",
    "colab": {
      "provenance": []
    },
    "kernelspec": {
      "display_name": "Python 3",
      "name": "python3"
    },
    "language_info": {
      "codemirror_mode": {
        "name": "ipython",
        "version": 3
      },
      "file_extension": ".py",
      "mimetype": "text/x-python",
      "name": "python",
      "nbconvert_exporter": "python",
      "pygments_lexer": "ipython3",
      "version": "3.9.0"
    }
  },
  "nbformat": 4,
  "nbformat_minor": 0
}
