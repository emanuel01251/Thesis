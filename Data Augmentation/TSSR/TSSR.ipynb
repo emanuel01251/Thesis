{
  "cells": [
    {
      "cell_type": "code",
      "execution_count": null,
      "metadata": {
        "id": "06jq9Bx4zFfo"
      },
      "outputs": [],
      "source": [
        "!git clone https://github.com/mosh98/swe_aug.git\n",
        "! pip install -r /content/swe_aug/reqs.txt"
      ]
    },
    {
      "cell_type": "code",
      "execution_count": null,
      "metadata": {
        "colab": {
          "base_uri": "https://localhost:8080/"
        },
        "id": "rCnt-TsS0cbW",
        "outputId": "601b986e-532f-41f9-c0f5-be86fe5f2914"
      },
      "outputs": [],
      "source": [
        "!wget https://www.ida.liu.se/divisions/hcs/nlplab/swectors/swectors-300dim.txt.bz2\n",
        "!bzip2 -dk /content/swectors-300dim.txt.bz2\n",
        "\n",
        "import os\n",
        "\n",
        "# Define paths for input and output files\n",
        "current_dir = os.getcwd()\n",
        "input_file_path = os.path.join(current_dir, \"input.txt\")  # Change to your input file name\n",
        "output_file_path = os.path.join(current_dir, \"augmented_output.txt\")  # Output file\n",
        "\n",
        "word_vec_path = os.path.join(current_dir, \"Word2Vec\", \"word2vec_300dim_20epochs.mode.txt\")\n",
        "\n",
        "#you can even set path to your own pretrain word2vec (make sure its a txt file)"
      ]
    },
    {
      "cell_type": "code",
      "execution_count": null,
      "metadata": {
        "colab": {
          "base_uri": "https://localhost:8080/"
        },
        "id": "JOhAR1kAzHgt",
        "outputId": "2adbd480-d11f-4b90-9e7a-e04493ef8d96"
      },
      "outputs": [],
      "source": [
        "# \"NOUN\", \"VERB\", \"ADJ\", \"ADV\", \"PROPN\",\"CONJ\"\n",
        "#These are the tokens you can perturb! [CASE SENSITIVE!]\n",
        "\n",
        "from swe_aug.Other_Techniques import Type_SR\n",
        "aug = Type_SR.type_DA(word_vec_path)\n",
        "\n",
        "# Read the input text from the file\n",
        "with open(input_file_path, 'r', encoding='utf-8') as file:\n",
        "    txt = file.read().strip()  # Read the entire file and remove any leading/trailing whitespace"
      ]
    },
    {
      "cell_type": "code",
      "execution_count": null,
      "metadata": {},
      "outputs": [],
      "source": [
        "\"\"\" txt = \"Ang pagdating ng digital na telebisyon ay nagpahintulot ng mga likha tulad ng mga Smart TV.\" \"\"\"\n",
        "\n",
        "list_of_augs = aug.type_synonym_sr(txt, token_type = \"NOUN\", n = 2)\n",
        "\"\"\" list_of_augs = aug.type_synonym_sr_one_sentence(txt, n = 1) \"\"\""
      ]
    },
    {
      "cell_type": "code",
      "execution_count": null,
      "metadata": {},
      "outputs": [],
      "source": [
        "print(list_of_augs)"
      ]
    },
    {
      "cell_type": "code",
      "execution_count": null,
      "metadata": {},
      "outputs": [],
      "source": [
        "# Write the augmented sentences to the output file\n",
        "with open(output_file_path, 'w', encoding='utf-8') as file:\n",
        "    for aug_sentence in list_of_augs:\n",
        "        file.write(' '.join(aug_sentence) + '\\n')  # Write each augmented sentence on a new line\n",
        "\n",
        "print(f\"Augmented sentences saved to {output_file_path}\")"
      ]
    }
  ],
  "metadata": {
    "colab": {
      "provenance": []
    },
    "kernelspec": {
      "display_name": ".venv_3.9",
      "language": "python",
      "name": "python3"
    },
    "language_info": {
      "codemirror_mode": {
        "name": "ipython",
        "version": 3
      },
      "file_extension": ".py",
      "mimetype": "text/x-python",
      "name": "python",
      "nbconvert_exporter": "python",
      "pygments_lexer": "ipython3",
      "version": "3.9.0"
    }
  },
  "nbformat": 4,
  "nbformat_minor": 0
}
