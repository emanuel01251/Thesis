{
  "cells": [
    {
      "cell_type": "code",
      "execution_count": null,
      "metadata": {
        "id": "06jq9Bx4zFfo"
      },
      "outputs": [],
      "source": [
        "!git clone https://github.com/mosh98/swe_aug.git\n",
        "! pip install -r /content/swe_aug/reqs.txt"
      ]
    },
    {
      "cell_type": "code",
      "execution_count": null,
      "metadata": {
        "colab": {
          "base_uri": "https://localhost:8080/"
        },
        "id": "rCnt-TsS0cbW",
        "outputId": "601b986e-532f-41f9-c0f5-be86fe5f2914"
      },
      "outputs": [],
      "source": [
        "!wget https://www.ida.liu.se/divisions/hcs/nlplab/swectors/swectors-300dim.txt.bz2\n",
        "!bzip2 -dk /content/swectors-300dim.txt.bz2\n",
        "\n",
        "import os\n",
        "\n",
        "# Define paths for input and output files\n",
        "current_dir = os.getcwd()\n",
        "input_file_path = os.path.join(current_dir, \"input.txt\")  # Change to your input file name\n",
        "output_file_path = os.path.join(current_dir, \"augmented_output.txt\")  # Output file\n",
        "\n",
        "word_vec_path = os.path.join(current_dir, \"word2vec_300dim_20epochs.mode.txt\")\n",
        "\n",
        "#you can even set path to your own pretrain word2vec (make sure its a txt file)"
      ]
    },
    {
      "cell_type": "code",
      "execution_count": null,
      "metadata": {
        "colab": {
          "base_uri": "https://localhost:8080/"
        },
        "id": "JOhAR1kAzHgt",
        "outputId": "2adbd480-d11f-4b90-9e7a-e04493ef8d96"
      },
      "outputs": [],
      "source": [
        "from swe_aug import EDA\n",
        "\n",
        "aug = EDA.Enkel_Data_Augmentation(word_vec_path)\n",
        "\n",
        "\n",
        "txt = \"Ako ay pumunta sa palengke para bumli ng gulay at lutuin iyon. \""
      ]
    },
    {
      "cell_type": "code",
      "execution_count": 28,
      "metadata": {
        "id": "no-MhRB_zcwh"
      },
      "outputs": [],
      "source": [
        "\n",
        "augmented_sentences = aug.enkel_augmentation(txt, alpha_sr=0.1,\n",
        "                                             alpha_ri=0.3, alpha_rs=0.2,\n",
        "                                             alpha_rd=0.1, num_aug=4)\n",
        "#returns a list of augmented sentences"
      ]
    },
    {
      "cell_type": "code",
      "execution_count": null,
      "metadata": {
        "colab": {
          "base_uri": "https://localhost:8080/"
        },
        "id": "r8S2nkpezfI5",
        "outputId": "0d354957-894f-44bd-8eec-25a18bed8141"
      },
      "outputs": [],
      "source": [
        "augmented_sentences"
      ]
    },
    {
      "cell_type": "code",
      "execution_count": null,
      "metadata": {
        "id": "UWfQIfmJ0_kL"
      },
      "outputs": [],
      "source": []
    }
  ],
  "metadata": {
    "colab": {
      "provenance": []
    },
    "kernelspec": {
      "display_name": ".venv_3.9",
      "language": "python",
      "name": "python3"
    },
    "language_info": {
      "codemirror_mode": {
        "name": "ipython",
        "version": 3
      },
      "file_extension": ".py",
      "mimetype": "text/x-python",
      "name": "python",
      "nbconvert_exporter": "python",
      "pygments_lexer": "ipython3",
      "version": "3.9.0"
    }
  },
  "nbformat": 4,
  "nbformat_minor": 0
}
